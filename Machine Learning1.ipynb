{
 "cells": [
  {
   "cell_type": "code",
   "execution_count": null,
   "id": "ce70c379-890c-4ce7-bf62-39bc5e853e85",
   "metadata": {},
   "outputs": [],
   "source": [
    "#MEDICAL DATA"
   ]
  },
  {
   "cell_type": "code",
   "execution_count": null,
   "id": "a440c59f-c426-4561-8d80-6b50709f66f6",
   "metadata": {},
   "outputs": [],
   "source": [
    "medical_url = 'https://raw.githubusercontent.com/JovianML/opendatasets/master/data/medical-charges.csv'"
   ]
  },
  {
   "cell_type": "code",
   "execution_count": null,
   "id": "16e0a60b-5c14-4e88-a7c1-285742f72dc7",
   "metadata": {},
   "outputs": [],
   "source": [
    "from urllib.request import urlretrieve\n",
    "import pandas as pd"
   ]
  },
  {
   "cell_type": "code",
   "execution_count": null,
   "id": "414a3ee2-3388-4fd8-ae5a-80ccf325af9e",
   "metadata": {},
   "outputs": [],
   "source": [
    "urlretrieve(medical_url, 'medical.csv') #downloads a file from medical_url and saves it as medical.csv in the current directory."
   ]
  },
  {
   "cell_type": "code",
   "execution_count": null,
   "id": "bf1b37d4-d5b8-461d-b9dd-7d1955ced057",
   "metadata": {},
   "outputs": [],
   "source": [
    "medical_df = pd.read_csv('medical.csv')\n",
    "medical_df"
   ]
  },
  {
   "cell_type": "code",
   "execution_count": null,
   "id": "9adea2e2-d3b5-4715-9925-548bb8fa4eca",
   "metadata": {},
   "outputs": [],
   "source": [
    "#OUR OBJECTIVE IS TO FIND A WAY TO ESTIMATE THE VALUES IN THE 'CHARGES' COLUMN USING OTHER COLUMNS"
   ]
  },
  {
   "cell_type": "code",
   "execution_count": null,
   "id": "9b6b7dd7-7a09-4bb3-a6b2-99b6b6b5f2f0",
   "metadata": {},
   "outputs": [],
   "source": [
    "medical_df.info()"
   ]
  },
  {
   "cell_type": "code",
   "execution_count": null,
   "id": "0b7446e2-2c6d-453f-9100-9eb0bc40fdb4",
   "metadata": {},
   "outputs": [],
   "source": [
    "medical_df.describe()"
   ]
  },
  {
   "cell_type": "code",
   "execution_count": null,
   "id": "6c68b1aa-dd16-4ee0-bfdb-1b8e1bffd10e",
   "metadata": {},
   "outputs": [],
   "source": [
    "#COMPARING THE MEAN AND 50% above , THERE ARE OUTLIERS"
   ]
  },
  {
   "cell_type": "code",
   "execution_count": null,
   "id": "43189da5-bade-4497-8d5c-5a2408b79f4a",
   "metadata": {},
   "outputs": [],
   "source": [
    "#import jovian\n",
    "#jovian.commit(filename='Machine Learning.ipynb')"
   ]
  },
  {
   "cell_type": "code",
   "execution_count": null,
   "id": "74dd889d-95db-4faa-a8d1-3483db08ffa7",
   "metadata": {},
   "outputs": [],
   "source": [
    "import plotly.express as px #plotly.express is a high-level module in the Plotly library, designed for creating interactive and visually appealing plots with minimal code.\n",
    "import matplotlib\n",
    "import seaborn as sns\n",
    "import matplotlib.pyplot as plt\n",
    "import numpy as np\n",
    "\n",
    "import seaborn as sns\n",
    "%matplotlib inline"
   ]
  },
  {
   "cell_type": "code",
   "execution_count": null,
   "id": "a62b6eff-ecd3-48eb-bc7a-10c417e99f2b",
   "metadata": {},
   "outputs": [],
   "source": [
    "sns.set_style('darkgrid') # Set the style of seaborn plots to 'darkgrid', which adds a grid with a dark background\n",
    "matplotlib.rcParams['font.size']=14 # Set the default font size for Matplotlib plots to 14 #sns.set_style('darkgrid') .rcParams is a dictionary-like configuration object in matplotlib.\n",
    "matplotlib.rcParams['figure.figsize'] = (10,6) # Set the default figure size to 10 inches wide by 6 inches tall\n",
    "matplotlib.rcParams['figure.facecolor'] = '#00000000' # Set the figure background color to transparent (RGBA format where '#00000000' means black with 0 alpha)"
   ]
  },
  {
   "cell_type": "code",
   "execution_count": null,
   "id": "55f86a2f-0689-4832-a655-e81f644daf79",
   "metadata": {},
   "outputs": [],
   "source": []
  },
  {
   "cell_type": "code",
   "execution_count": null,
   "id": "b27e2141-f37d-4d93-9648-33787d7d39b2",
   "metadata": {},
   "outputs": [],
   "source": [
    "#AGE age is numeric we can visualize the dsn of age using histogram with 47 bins and a boxplot.\n",
    "#WE'LL USE PLOTLY TO MAKE THE CHART INTERATIVE"
   ]
  },
  {
   "cell_type": "code",
   "execution_count": null,
   "id": "d3c99f83-250c-43ac-bf32-aa938fc715a9",
   "metadata": {},
   "outputs": [],
   "source": [
    "medical_df.age.describe()"
   ]
  },
  {
   "cell_type": "code",
   "execution_count": null,
   "id": "0e2ca337-6243-45ad-8d50-975e2966e91d",
   "metadata": {},
   "outputs": [],
   "source": [
    "fig = px.histogram(medical_df, x = 'age', marginal = 'box', nbins = 47, title= 'dsn of AGe') #marginal='box' → Adds a box plot above the histogram for better visualization of data distribution.nbins=47 → Divides the age data into 47 bins (intervals) for the histogram.\n",
    "fig.update_layout(bargap=0.1)\n"
   ]
  },
  {
   "cell_type": "code",
   "execution_count": null,
   "id": "08523b96-d0d3-400a-b8e2-eb29ffcce944",
   "metadata": {},
   "outputs": [],
   "source": [
    "fig.show()"
   ]
  },
  {
   "cell_type": "code",
   "execution_count": null,
   "id": "700b75b8-38cc-40ea-9ef2-b882c0ac4ed1",
   "metadata": {},
   "outputs": [],
   "source": [
    "fig = px.histogram(medical_df, x = 'bmi', marginal = 'box', nbins = 47,color_discrete_sequence =['red'],title= 'dsn of Bmi')\n",
    "fig.update_layout(bargap=0.1)\n",
    "fig.show() # GAUSHAIAN DSN :CENTERED"
   ]
  },
  {
   "cell_type": "code",
   "execution_count": null,
   "id": "611a8297-a139-4f40-9cf8-df31cbb8d4af",
   "metadata": {},
   "outputs": [],
   "source": [
    "fig = px.histogram(medical_df, x = 'charges', marginal = 'box', nbins = 47,color = 'smoker',color_discrete_sequence =['green','grey'],title= 'Annual charges')\n",
    "#color='smoker' → The histogram bars are colored based on whether the individual is a smoker or non-smoker ,color_discrete_sequence=['green', 'grey'] → Assigns green to one category (e.g., smokers) and grey to the other (e.g., non-smokers).\n",
    "fig.update_layout(bargap=0.1)\n",
    "fig.show()"
   ]
  },
  {
   "cell_type": "code",
   "execution_count": null,
   "id": "fd43b838-83f3-4703-bd3b-f152f713b156",
   "metadata": {},
   "outputs": [],
   "source": [
    "medical_df.smoker.value_counts()"
   ]
  },
  {
   "cell_type": "code",
   "execution_count": null,
   "id": "c9734db3-f699-47a2-9ae2-8234c3a45c16",
   "metadata": {},
   "outputs": [],
   "source": [
    "fig = px.histogram(medical_df, x = 'smoker', marginal = 'box', nbins = 47,color = 'sex',color_discrete_sequence =['green','grey'],title= 'Smokers')\n",
    "#color = 'sex' The bars are colored based on whether the person is a male or female\n",
    "fig.update_layout(bargap=0.1)\n",
    "fig.show()"
   ]
  },
  {
   "cell_type": "code",
   "execution_count": null,
   "id": "a8e21963-72f8-4da2-ad24-ae1d96132cfc",
   "metadata": {},
   "outputs": [],
   "source": []
  },
  {
   "cell_type": "code",
   "execution_count": null,
   "id": "a2f2e34e-b827-4d5a-840c-32ff166ba5f6",
   "metadata": {},
   "outputs": [],
   "source": [
    "#RELATION BTN DIFFERENT COLUMNS . USING SCATTER \n",
    "#AGE AND CHARGES"
   ]
  },
  {
   "cell_type": "code",
   "execution_count": null,
   "id": "d8b8ba9e-0d72-46f4-9d9a-9d9bc7080acf",
   "metadata": {},
   "outputs": [],
   "source": [
    "fig = px.scatter(medical_df, x = 'age',y='charges',color = 'smoker',opacity= 0.8,hover_data=['sex'], title=' AGE VS  CHRAGES')\n",
    "#opacity=0.8 Sets the transparency of the scatter points to 80%. When you hover over a point, it displays the person's sex along with the default hover information.\n",
    "fig.update_traces(marker_size = 5)\n",
    "fig.show()"
   ]
  },
  {
   "cell_type": "code",
   "execution_count": null,
   "id": "0f83401d-232a-40a3-bda4-f88c6fe7a38e",
   "metadata": {},
   "outputs": [],
   "source": [
    "#BMI AND CHARGES"
   ]
  },
  {
   "cell_type": "code",
   "execution_count": null,
   "id": "8c3b852f-3df8-4c55-a503-bf244fe6064f",
   "metadata": {},
   "outputs": [],
   "source": [
    "fig = px.scatter(medical_df, x = 'bmi',y='charges',color = 'smoker',opacity= 0.8,hover_data=['sex'], title=' BMI VS  CHRAGES')\n",
    "fig.update_traces(marker_size = 5)\n",
    "fig.show()"
   ]
  },
  {
   "cell_type": "code",
   "execution_count": null,
   "id": "e9e6906e-e95a-4e9a-9aea-6e91c19895ef",
   "metadata": {},
   "outputs": [],
   "source": [
    "#PX.VIOLIN, SNS.BARPLOT"
   ]
  },
  {
   "cell_type": "code",
   "execution_count": null,
   "id": "9a88fd99-24b5-4f90-9efd-8e12ce8aaeeb",
   "metadata": {},
   "outputs": [],
   "source": [
    "px.violin(medical_df, x = 'children',y='charges') #as number of children increase thecharges increase"
   ]
  },
  {
   "cell_type": "code",
   "execution_count": null,
   "id": "13dd378e-c5e6-4801-abb9-974a8e0a2608",
   "metadata": {},
   "outputs": [],
   "source": []
  },
  {
   "cell_type": "code",
   "execution_count": null,
   "id": "656c7abd-fbf4-417b-a9b6-cad077a5c55f",
   "metadata": {},
   "outputs": [],
   "source": []
  },
  {
   "cell_type": "code",
   "execution_count": null,
   "id": "bac7b0b4-d22e-4e96-8ce8-dcb6fc79ea3e",
   "metadata": {},
   "outputs": [],
   "source": [
    "#CORRELATION .corr i.e dt.cl1.corr(dt.cl2)"
   ]
  },
  {
   "cell_type": "code",
   "execution_count": null,
   "id": "82e0985a-a2af-4e12-b891-efa6fd7bfe34",
   "metadata": {},
   "outputs": [],
   "source": [
    "medical_df.charges.corr(medical_df.age)"
   ]
  },
  {
   "cell_type": "code",
   "execution_count": null,
   "id": "b65a4684-c4e4-4374-bc9e-bb1a691091ec",
   "metadata": {},
   "outputs": [],
   "source": [
    "medical_df.charges.corr(medical_df.bmi)"
   ]
  },
  {
   "cell_type": "code",
   "execution_count": null,
   "id": "a012f796-3e39-4a76-bf50-dab747987966",
   "metadata": {},
   "outputs": [],
   "source": [
    "medical_df.charges.corr(medical_df.children)"
   ]
  },
  {
   "cell_type": "code",
   "execution_count": null,
   "id": "eceeebda-faff-4288-be5b-5a8b0477c9b9",
   "metadata": {},
   "outputs": [],
   "source": [
    "#NB CORRELATION FOR CATEGORICAL DATA, FIRST CONVERT TO NUMERIC"
   ]
  },
  {
   "cell_type": "code",
   "execution_count": null,
   "id": "2f207057-2b3f-452a-99e5-7c9e664289c4",
   "metadata": {},
   "outputs": [],
   "source": [
    "smoker_values = {'no':0, 'yes':1}\n",
    "smoker_numeric = medical_df.smoker.map(smoker_values)\n",
    "smoker_numeric"
   ]
  },
  {
   "cell_type": "code",
   "execution_count": null,
   "id": "f99a291c-9ef9-4c7d-adca-45a1e729ec21",
   "metadata": {},
   "outputs": [],
   "source": [
    "medical_df.charges.corr(smoker_numeric)"
   ]
  },
  {
   "cell_type": "code",
   "execution_count": null,
   "id": "090e6013-092e-493e-9cb8-536dff3a11f6",
   "metadata": {},
   "outputs": [],
   "source": []
  },
  {
   "cell_type": "code",
   "execution_count": null,
   "id": "2bd61ca8-3125-4200-a041-961063660854",
   "metadata": {},
   "outputs": [],
   "source": []
  },
  {
   "cell_type": "code",
   "execution_count": null,
   "id": "5741150c-2317-4111-a930-1ef0b18cc646",
   "metadata": {},
   "outputs": [],
   "source": [
    "##edical_df['sex'] = medical_df['sex'].map({'male': 0, 'female': 1})\n",
    "#medical_df['smoker'] = medical_df['smoker'].map({'yes':0, 'no':1})\n",
    "\n",
    "#medical_df.corr()\n"
   ]
  },
  {
   "cell_type": "code",
   "execution_count": null,
   "id": "6a8cc254-c305-4270-92aa-757c89411cbf",
   "metadata": {},
   "outputs": [],
   "source": [
    "medical_df.select_dtypes(include=['number']).corr()\n"
   ]
  },
  {
   "cell_type": "code",
   "execution_count": null,
   "id": "76323227-a7cd-474e-a7cd-079e99caa45e",
   "metadata": {},
   "outputs": [],
   "source": [
    "sns.heatmap(medical_df.select_dtypes(include=['number']).corr(), cmap='Reds', annot=True)\n",
    "plt.title('Correlations')\n",
    "plt.show()"
   ]
  },
  {
   "cell_type": "code",
   "execution_count": null,
   "id": "0c8b6ffd-2a1e-4ac4-8a30-a2ba3e995359",
   "metadata": {},
   "outputs": [],
   "source": []
  },
  {
   "cell_type": "code",
   "execution_count": null,
   "id": "6287718e-9eb5-4a0e-85ef-4ca946e76f56",
   "metadata": {},
   "outputs": [],
   "source": []
  },
  {
   "cell_type": "code",
   "execution_count": null,
   "id": "d85c19d1-c686-4963-a8dd-0c5eca953f71",
   "metadata": {},
   "outputs": [],
   "source": [
    "#LINEAR REGRESSION USING SINGLE FEATURE. ESTIMATE THE VALUES OF 'CHARGES' USING THE VALUE OF 'AGE' FOR NON SMOKERS"
   ]
  },
  {
   "cell_type": "code",
   "execution_count": null,
   "id": "a1e7a8f5-a588-4ac9-9f58-1bae0c90f8f7",
   "metadata": {},
   "outputs": [],
   "source": [
    "medical_df.smoker == 'yes'"
   ]
  },
  {
   "cell_type": "code",
   "execution_count": null,
   "id": "33e9a954-a15e-457c-9201-0c4eedbfc47a",
   "metadata": {},
   "outputs": [],
   "source": [
    "non_smokers = medical_df[medical_df.smoker == 'yes']\n",
    "non_smokers"
   ]
  },
  {
   "cell_type": "code",
   "execution_count": null,
   "id": "6f4a7a5d-32ba-4859-aa72-2ac8ce49ea42",
   "metadata": {},
   "outputs": [],
   "source": [
    "print(medical_df['smoker'].unique())\n"
   ]
  },
  {
   "cell_type": "code",
   "execution_count": null,
   "id": "a3cf5f71-0a4e-4cd4-b406-ac353196eccf",
   "metadata": {},
   "outputs": [],
   "source": [
    "sns.scatterplot(data=non_smokers , x='age', y='charges',alpha=0.7,s=15)\n",
    "plt.title('Age vs Charges')"
   ]
  },
  {
   "cell_type": "code",
   "execution_count": null,
   "id": "39aaf9b4-a9f2-4748-9cc9-586c47280dbe",
   "metadata": {},
   "outputs": [],
   "source": []
  },
  {
   "cell_type": "code",
   "execution_count": null,
   "id": "3b8d6800-cf7a-4195-9dcb-8bdecc929cd9",
   "metadata": {},
   "outputs": [],
   "source": [
    "#MODEL .charges= w*age + b. ages is the input"
   ]
  },
  {
   "cell_type": "code",
   "execution_count": null,
   "id": "caede9de-9cc9-4b1b-bba7-9009d786a0c5",
   "metadata": {},
   "outputs": [],
   "source": [
    "def estimate_charges(age, w, b):\n",
    "    return w*age + b"
   ]
  },
  {
   "cell_type": "code",
   "execution_count": null,
   "id": "8fd19a8f-5ac2-4d36-af6b-692a81c1568d",
   "metadata": {},
   "outputs": [],
   "source": [
    "w = 50\n",
    "b = 100"
   ]
  },
  {
   "cell_type": "code",
   "execution_count": null,
   "id": "3fd76c25-482c-48e4-adf2-0a9e23034b9d",
   "metadata": {},
   "outputs": [],
   "source": [
    "estimate_charges(40, w, b)"
   ]
  },
  {
   "cell_type": "code",
   "execution_count": null,
   "id": "16ea654b-d124-474f-a6c3-67f43fcebe63",
   "metadata": {},
   "outputs": [],
   "source": [
    "ages = non_smokers.age\n",
    "ages"
   ]
  },
  {
   "cell_type": "code",
   "execution_count": null,
   "id": "500ca812-cc4f-4bd6-bec4-3d97d4646b1c",
   "metadata": {},
   "outputs": [],
   "source": [
    "estimated_charge = estimate_charges(ages, w, b)\n",
    "estimated_charge"
   ]
  },
  {
   "cell_type": "code",
   "execution_count": null,
   "id": "3c5bd905-da8c-4b45-9d3d-842541b1c02f",
   "metadata": {},
   "outputs": [],
   "source": [
    "non_smokers.charges"
   ]
  },
  {
   "cell_type": "code",
   "execution_count": null,
   "id": "700f64be-fa30-422d-bc07-a40d94ad92ed",
   "metadata": {},
   "outputs": [],
   "source": [
    "plt.scatter(ages,estimated_charge)\n",
    "plt.xlabel('AGE')\n",
    "plt.ylabel('ESTimates')\n"
   ]
  },
  {
   "cell_type": "code",
   "execution_count": null,
   "id": "5d69cb99-cd8a-4408-b46c-9bd0c0743ab6",
   "metadata": {},
   "outputs": [],
   "source": [
    "plt.plot(ages,estimated_charge)\n",
    "plt.xlabel('AGE')\n",
    "plt.ylabel('ESTimates')"
   ]
  },
  {
   "cell_type": "code",
   "execution_count": null,
   "id": "236fece5-46e1-48d5-8456-e7db81a17e51",
   "metadata": {},
   "outputs": [],
   "source": []
  },
  {
   "cell_type": "code",
   "execution_count": null,
   "id": "b53925a3-0479-4c6e-a119-f2ca45fa1deb",
   "metadata": {},
   "outputs": [],
   "source": [
    "#TO SEE HWOW GOOD OUR MODEL IS "
   ]
  },
  {
   "cell_type": "code",
   "execution_count": null,
   "id": "6e1bbada-adda-49b2-a3f7-8e84b5ad21ff",
   "metadata": {},
   "outputs": [],
   "source": [
    "target = non_smokers.charges ## Assigning the 'charges' column of the 'non_smokers' DataFrame to the variable 'target'\n"
   ]
  },
  {
   "cell_type": "code",
   "execution_count": null,
   "id": "a1be911e-fd6c-4cad-b5ce-afb36bf5795f",
   "metadata": {},
   "outputs": [],
   "source": [
    "plt.plot(ages, estimated_charge, 'r', alpha= 0.9) ## Plotting a line graph of 'ages' vs 'estimated_charge' with a red line and opacity of 0.9\n",
    "plt.scatter(ages,target, s=8, alpha =0.8)  ## Plotting a scatter plot of 'ages' vs 'target' (actual charges) with small markers (size 8) and opacity of 0.8\n",
    "plt.xlabel('AGE')\n",
    "plt.ylabel('Charges')\n",
    "plt.legend(['estimate', 'actual'])# Adding a legend to label the two plots: 'estimate' for the line and 'actual' for the scatter plot"
   ]
  },
  {
   "cell_type": "code",
   "execution_count": null,
   "id": "f0e24f6d-0558-4e5d-b7b1-ad8231c3434d",
   "metadata": {},
   "outputs": [],
   "source": [
    "#OUR ESTIMATES ARE POOR AND DONT 'FIT' OUR DATA.TRY DIFFERENT VALUES OF W AND B"
   ]
  },
  {
   "cell_type": "code",
   "execution_count": null,
   "id": "7871e4d1-24d5-400f-b1bb-8bd45478b4ce",
   "metadata": {},
   "outputs": [],
   "source": [
    "def try_parameters(w,b):\n",
    "    ages = non_smokers.age\n",
    "    target = non_smokers.charges\n"
   ]
  },
  {
   "cell_type": "code",
   "execution_count": null,
   "id": "5637f068-ea49-49f2-b537-d19f3c90bf1c",
   "metadata": {},
   "outputs": [],
   "source": [
    "estimated_charges = estimate_charges(ages,w,b)\n"
   ]
  },
  {
   "cell_type": "code",
   "execution_count": null,
   "id": "e0029228-faa4-44eb-8834-fe664fe665aa",
   "metadata": {},
   "outputs": [],
   "source": [
    "plt.plot(ages,estimate_charges(ages,400,0),'r',alpha=0.9)\n",
    "plt.scatter(ages,target,s=8,alpha=0.8)\n",
    "plt.xlabel('AGE')\n",
    "plt.ylabel('Charges')\n",
    "plt.legend(['estimate', 'actual'])"
   ]
  },
  {
   "cell_type": "code",
   "execution_count": null,
   "id": "e41c7ee7-594f-4fdd-bf07-f8c870d8b763",
   "metadata": {},
   "outputs": [],
   "source": [
    "plt.plot(ages,estimate_charges(ages,500,-2000),'r',alpha=0.9) # Plotting a line graph for estimated charges based on the function estimate_charges\n",
    "# The function is called with 'ages', 500 (coefficient), and -2000 (intercept)\n",
    "plt.scatter(ages,target,s=8,alpha=0.8)\n",
    "plt.xlabel('AGE')\n",
    "plt.ylabel('Charges')\n",
    "plt.legend(['estimate', 'actual'])"
   ]
  },
  {
   "cell_type": "code",
   "execution_count": null,
   "id": "927b94ca-c2b7-4bbc-949d-2891c545be7b",
   "metadata": {},
   "outputs": [],
   "source": []
  },
  {
   "cell_type": "code",
   "execution_count": null,
   "id": "be749449-7241-43f2-ba92-7f3baed5de9a",
   "metadata": {},
   "outputs": [],
   "source": []
  },
  {
   "cell_type": "code",
   "execution_count": null,
   "id": "41cbfe69-d080-440f-adae-e32ae9e173a2",
   "metadata": {},
   "outputs": [],
   "source": [
    "#LOSS AND COST FUNCTION"
   ]
  },
  {
   "cell_type": "code",
   "execution_count": null,
   "id": "d95570f2-2ff6-4df8-a88d-182ce6e5a3c4",
   "metadata": {},
   "outputs": [],
   "source": [
    "targets = non_smokers.charges\n",
    "targets"
   ]
  },
  {
   "cell_type": "code",
   "execution_count": null,
   "id": "1c871c94-4463-4bfc-84d8-5b10de70791b",
   "metadata": {},
   "outputs": [],
   "source": [
    "predictions = estimated_charges\n",
    "predictions"
   ]
  },
  {
   "cell_type": "code",
   "execution_count": null,
   "id": "a1df27dc-e6f6-4e98-8a06-994516d475a9",
   "metadata": {},
   "outputs": [],
   "source": [
    "def rmse(targets, predictions):\n",
    "    return np.sqrt(np.mean(np.square(targets-predictions))) #targets - predictions: Computes the element-wise difference between actual and predicted values.np.square(...): Squares each difference. np.mean(...): Computes the mean of these squared differences. np.sqrt(...): Takes the square root of the mean squared error to get RMSE"
   ]
  },
  {
   "cell_type": "code",
   "execution_count": null,
   "id": "8bee4c55-ea40-4641-9ab3-f390f02cf750",
   "metadata": {},
   "outputs": [],
   "source": [
    "w= 50\n",
    "b=100"
   ]
  },
  {
   "cell_type": "code",
   "execution_count": null,
   "id": "fab52714-400a-4ca4-99d4-367fd6a8d975",
   "metadata": {},
   "outputs": [],
   "source": [
    "try_parameters(w,b)"
   ]
  },
  {
   "cell_type": "code",
   "execution_count": null,
   "id": "aa1ed071-908c-4a05-8ad8-ce816aeb74fb",
   "metadata": {},
   "outputs": [],
   "source": [
    "targets = non_smokers['charges']\n",
    "predicted = estimate_charges( non_smokers['age'],w,b)"
   ]
  },
  {
   "cell_type": "code",
   "execution_count": null,
   "id": "d38ceb5f-91ed-48c7-a3c3-78a2e0b47a08",
   "metadata": {},
   "outputs": [],
   "source": [
    "rmse(targets, predicted) #INTERPRET:ON AVERAGE EACH ELEMENT IN THE PREDICTION DIFFERS FROM THE ACTUAL TARGET BY 3204. LOSS "
   ]
  },
  {
   "cell_type": "code",
   "execution_count": null,
   "id": "17df56f0-cee4-4ae7-8a59-c09ce8390a9c",
   "metadata": {},
   "outputs": [],
   "source": [
    "def try_parameters(w,b):\n",
    "    ages=non_smokers.age\n",
    "    target=non_smokers.charges\n",
    "    predictions = estimate_charges(ages,w,b)\n",
    "    return predictions\n"
   ]
  },
  {
   "cell_type": "code",
   "execution_count": null,
   "id": "78b13188-9977-494c-9e3e-a530149e3796",
   "metadata": {},
   "outputs": [],
   "source": [
    "plt.plot(ages,predictions,'r', alpha=0.9)\n",
    "plt.scatter(ages,target,s=8,alpha=0.8)\n",
    "plt.xlabel('ages')\n",
    "plt.ylabel('charges')\n",
    "plt.legend(['predicted', 'actual'])\n",
    "loss = rmse(targets,predictions) #This calculates the RMSE (Root Mean Squared Error) loss between the target (actual charges) and the predictions\n",
    "print('RMSE LOSS:',loss)"
   ]
  },
  {
   "cell_type": "code",
   "execution_count": null,
   "id": "4b20e536-5a2f-4ddb-8b08-4c710f062a65",
   "metadata": {},
   "outputs": [],
   "source": [
    "# Call try_parameters and get the predictions\n",
    "predictions1 = try_parameters(650, -4000)\n",
    "\n",
    "# Re-plot the updated graph\n",
    "plt.plot(ages, predictions1, 'r', alpha=0.9)\n",
    "plt.scatter(ages, target, s=8, alpha=0.8)\n",
    "plt.xlabel('ages')\n",
    "plt.ylabel('charges')\n",
    "plt.legend(['predicted', 'actual'])\n",
    "\n",
    "# Calculate RMSE loss\n",
    "loss = rmse(target, predictions1)\n",
    "print('RMSE LOSS:', loss)\n",
    "\n",
    "plt.show()  # Show the plot to update the graph\n"
   ]
  },
  {
   "cell_type": "code",
   "execution_count": null,
   "id": "d8e8e601-7e28-455b-b83a-0bc7ed4d8563",
   "metadata": {},
   "outputs": [],
   "source": []
  },
  {
   "cell_type": "code",
   "execution_count": null,
   "id": "32726df8-23a2-45c2-bbad-7afbfb2af68b",
   "metadata": {},
   "outputs": [],
   "source": [
    "#OPTIMIZER MODIFY w AND b to reduce loss and improve fit\n",
    "#LINEAR REGRESSION USING SCIKIT-LEARN"
   ]
  },
  {
   "cell_type": "code",
   "execution_count": null,
   "id": "4b3c5712-f97a-4851-a8cf-6090c84cdca4",
   "metadata": {},
   "outputs": [],
   "source": [
    "from sklearn.linear_model import LinearRegression"
   ]
  },
  {
   "cell_type": "code",
   "execution_count": null,
   "id": "a77fc0ab-d453-4573-9968-b40bd184af43",
   "metadata": {},
   "outputs": [],
   "source": [
    "model =LinearRegression() #Create new obj"
   ]
  },
  {
   "cell_type": "code",
   "execution_count": null,
   "id": "8bfbdf80-f4ba-42f6-8987-b1194188381d",
   "metadata": {},
   "outputs": [],
   "source": [
    "help(model.fit)  #X for training data and y for target values) "
   ]
  },
  {
   "cell_type": "code",
   "execution_count": null,
   "id": "fa526a20-4030-482c-8ec2-99ea89d843c7",
   "metadata": {},
   "outputs": [],
   "source": [
    "inputs = non_smokers[['age']] #x shoukd be a 2-D array, so we need to pass dataframe instead of single column[[]]\n",
    "targerts = non_smokers.charges\n",
    "print('inputs.shape;',  inputs.shape)\n",
    "print('targets.shape:', targets.shape)"
   ]
  },
  {
   "cell_type": "code",
   "execution_count": null,
   "id": "9a7be19b-34e4-4e19-8ed1-c61c6d0564ef",
   "metadata": {},
   "outputs": [],
   "source": [
    "type(inputs)"
   ]
  },
  {
   "cell_type": "code",
   "execution_count": null,
   "id": "310a1c5f-1858-451b-ba1c-f16e932a4fa3",
   "metadata": {},
   "outputs": [],
   "source": [
    "model.fit(inputs,targets)"
   ]
  },
  {
   "cell_type": "code",
   "execution_count": null,
   "id": "4b8a8953-a651-4f02-a599-1e08dbe56844",
   "metadata": {},
   "outputs": [],
   "source": [
    "model.predict(np.array([[23], [37], [61]]))\n"
   ]
  },
  {
   "cell_type": "code",
   "execution_count": null,
   "id": "a895ecbf-fb14-4c7f-b452-d654c462e2dd",
   "metadata": {},
   "outputs": [],
   "source": [
    "predictions = model.predict(inputs)\n",
    "predictions"
   ]
  },
  {
   "cell_type": "code",
   "execution_count": null,
   "id": "4285eabc-2916-450c-995a-feca6e4cbbd7",
   "metadata": {},
   "outputs": [],
   "source": [
    "targerts #FIRST PERSON INCURRRED 16884.  BUT WE PREDICTED 26093."
   ]
  },
  {
   "cell_type": "code",
   "execution_count": null,
   "id": "42156578-f234-449d-a93c-a62505fef03a",
   "metadata": {},
   "outputs": [],
   "source": [
    "rmse(targets, predictions) #RMSE loss"
   ]
  },
  {
   "cell_type": "code",
   "execution_count": null,
   "id": "6e50eef1-ee01-46ca-9b10-c9c9e99c6599",
   "metadata": {},
   "outputs": [],
   "source": [
    "#COEFFICIENTS W and b"
   ]
  },
  {
   "cell_type": "code",
   "execution_count": null,
   "id": "1e955c43-ec35-4182-9c61-3d319bdb9ecc",
   "metadata": {},
   "outputs": [],
   "source": [
    "#W"
   ]
  },
  {
   "cell_type": "code",
   "execution_count": null,
   "id": "71fc7b94-4543-4274-b43a-0ff4a4333f67",
   "metadata": {},
   "outputs": [],
   "source": [
    "model.coef_"
   ]
  },
  {
   "cell_type": "code",
   "execution_count": null,
   "id": "a81f1ea6-7c41-4e0e-886a-4035204014b0",
   "metadata": {},
   "outputs": [],
   "source": [
    "#b"
   ]
  },
  {
   "cell_type": "code",
   "execution_count": null,
   "id": "9362017f-b03b-4565-a6fa-8f0bf7cbda49",
   "metadata": {},
   "outputs": [],
   "source": [
    "model.intercept_"
   ]
  },
  {
   "cell_type": "code",
   "execution_count": null,
   "id": "79dd63ac-5097-4f10-9762-a8f178149a23",
   "metadata": {},
   "outputs": [],
   "source": [
    "try_parameters(model.coef_, model.intercept_)\n"
   ]
  },
  {
   "cell_type": "code",
   "execution_count": null,
   "id": "1dec33f8-fe4c-4543-bf6e-64a21040282d",
   "metadata": {},
   "outputs": [],
   "source": [
    "print(type(try_parameters))\n"
   ]
  },
  {
   "cell_type": "code",
   "execution_count": null,
   "id": "95c6c930-63dc-443a-b0d9-45734fb26786",
   "metadata": {},
   "outputs": [],
   "source": [
    "%matplotlib inline\n"
   ]
  },
  {
   "cell_type": "code",
   "execution_count": null,
   "id": "1efb8b2f-1f1d-49df-8cdc-88b4e452c598",
   "metadata": {},
   "outputs": [],
   "source": [
    "try_parameters(model.coef_, model.intercept_)"
   ]
  },
  {
   "cell_type": "code",
   "execution_count": null,
   "id": "faba05f7-8d3c-463e-acb9-56c611395921",
   "metadata": {},
   "outputs": [],
   "source": []
  },
  {
   "cell_type": "code",
   "execution_count": null,
   "id": "24da96ff-a2de-4e28-9932-f106ebe8a701",
   "metadata": {},
   "outputs": [],
   "source": [
    "#TRAINING A ML MODEL USING SCIKIT"
   ]
  },
  {
   "cell_type": "code",
   "execution_count": null,
   "id": "bd5fd634-b050-4de7-82e9-0c187876c044",
   "metadata": {},
   "outputs": [],
   "source": [
    "#CREATE INPUTS AND TARGETS"
   ]
  },
  {
   "cell_type": "code",
   "execution_count": null,
   "id": "5cada553-af7f-49da-8741-078f6a0f4ae2",
   "metadata": {},
   "outputs": [],
   "source": [
    "inputs, targets = non_smokers[['age']],non_smokers['charges']"
   ]
  },
  {
   "cell_type": "code",
   "execution_count": null,
   "id": "6a964c3f-e1ea-4c98-a47c-4591427b4161",
   "metadata": {},
   "outputs": [],
   "source": [
    "#create and train the model"
   ]
  },
  {
   "cell_type": "code",
   "execution_count": null,
   "id": "397e9e5d-acb6-4e9c-9414-0cbddbd0e868",
   "metadata": {},
   "outputs": [],
   "source": [
    "model = LinearRegression().fit(inputs,targets)"
   ]
  },
  {
   "cell_type": "code",
   "execution_count": null,
   "id": "936658e0-67f4-4e31-b52f-bc3b4184fb92",
   "metadata": {},
   "outputs": [],
   "source": [
    "predictions = model.predict(inputs)"
   ]
  },
  {
   "cell_type": "code",
   "execution_count": null,
   "id": "3cda401c-b631-4719-ba2b-67704862ff17",
   "metadata": {},
   "outputs": [],
   "source": [
    "loss  = rmse(targets, predictions) #ERROR\n",
    "print('loss:', loss)"
   ]
  },
  {
   "cell_type": "code",
   "execution_count": null,
   "id": "984e2f19-d2e7-4c3b-bb46-7ad8eb98a039",
   "metadata": {},
   "outputs": [],
   "source": []
  },
  {
   "cell_type": "code",
   "execution_count": null,
   "id": "f4f579df-1cf3-432d-8227-b0e9088b8e80",
   "metadata": {},
   "outputs": [],
   "source": [
    "#LINEAR REGRESSION USING MULTIPLE FEATURES  w1*age + w2*bmi + b\n",
    "#CREATE INPUTS AND TARGETS"
   ]
  },
  {
   "cell_type": "code",
   "execution_count": null,
   "id": "b99b3e17-87ae-41f0-b034-5dde954a2f53",
   "metadata": {},
   "outputs": [],
   "source": [
    "\n",
    "\n",
    "inputs, targets = non_smokers[['age','bmi']],non_smokers['charges']"
   ]
  },
  {
   "cell_type": "code",
   "execution_count": null,
   "id": "1eecc238-a90a-4f34-a1ad-0b58e79b9616",
   "metadata": {},
   "outputs": [],
   "source": [
    "\n",
    "\n",
    "#CREATE AND TRAIN"
   ]
  },
  {
   "cell_type": "code",
   "execution_count": null,
   "id": "4fc8f51a-b00f-4072-8703-897345ee1d4f",
   "metadata": {},
   "outputs": [],
   "source": [
    "model = LinearRegression().fit(inputs,targets)"
   ]
  },
  {
   "cell_type": "code",
   "execution_count": null,
   "id": "87b0c91b-9114-4dbc-bdd3-4ff282001c96",
   "metadata": {},
   "outputs": [],
   "source": [
    "#GENERATE PREDICTIONS"
   ]
  },
  {
   "cell_type": "code",
   "execution_count": null,
   "id": "f78c04f5-28f6-47bd-b4c2-9a35cc68935c",
   "metadata": {},
   "outputs": [],
   "source": [
    "predictions = model.predict(inputs)\n",
    "predictions"
   ]
  },
  {
   "cell_type": "code",
   "execution_count": null,
   "id": "15c1a498-d5d3-4584-882d-92d4319c10d6",
   "metadata": {},
   "outputs": [],
   "source": [
    "#EVALUATE MODEL. LOSSS"
   ]
  },
  {
   "cell_type": "code",
   "execution_count": null,
   "id": "8005a950-afcb-4aa2-8832-a8e8d5649493",
   "metadata": {},
   "outputs": [],
   "source": [
    "loss = rmse(targets,predictions)\n",
    "loss"
   ]
  },
  {
   "cell_type": "code",
   "execution_count": null,
   "id": "896f5255-c231-4e04-b99f-4c718ab7fe14",
   "metadata": {},
   "outputs": [],
   "source": [
    "print('loss:',loss)"
   ]
  },
  {
   "cell_type": "code",
   "execution_count": null,
   "id": "6ec8408c-7a76-491e-b747-d1c6cbcfea8b",
   "metadata": {},
   "outputs": [],
   "source": [
    "non_smokers.charges.corr(non_smokers.bmi) #NO CORRELATION BTN BMI AND CHARGES"
   ]
  },
  {
   "cell_type": "code",
   "execution_count": null,
   "id": "381829be-6569-4828-b1ae-59751829adc3",
   "metadata": {},
   "outputs": [],
   "source": [
    "model.coef_, model.intercept_ #-22367. intercept"
   ]
  },
  {
   "cell_type": "code",
   "execution_count": null,
   "id": "b0adc9dc-5a78-4e26-8e9b-6a9ea6deed0e",
   "metadata": {},
   "outputs": [],
   "source": []
  },
  {
   "cell_type": "code",
   "execution_count": null,
   "id": "7da85823-d403-43f4-ab62-39d71efb5be1",
   "metadata": {},
   "outputs": [],
   "source": [
    " #ADD CHILDREN w1*age + w2*bmi + W3*charges +  b"
   ]
  },
  {
   "cell_type": "code",
   "execution_count": null,
   "id": "18b696c6-9cef-4793-be29-14e1236138b1",
   "metadata": {},
   "outputs": [],
   "source": [
    "non_smokers.charges.corr(non_smokers.children)"
   ]
  },
  {
   "cell_type": "code",
   "execution_count": null,
   "id": "c32ede9f-76f3-42d4-91c0-d0daa9bb33a1",
   "metadata": {},
   "outputs": [],
   "source": [
    "fig = px.strip(non_smokers, x = 'children', y= 'charges', title = 'children vs charges') ## Creating a strip plot (also known as a scatter plot with jitter) using Plotly Express# 'non_smokers' is the DataFrame being used\n",
    "fig.update_traces(marker_size = 4, marker_opacity = 0.7) ## - marker_size: sets the size of the dots to 4 # - marker_opacity: sets the transparency of the dots to 70% for better visibility when overlapping\n",
    "fig.show()"
   ]
  },
  {
   "cell_type": "code",
   "execution_count": null,
   "id": "8d965e6c-aaf6-4eef-b4a5-9c52a1f6ab46",
   "metadata": {},
   "outputs": [],
   "source": [
    "inputs, targets = non_smokers[['age','bmi','children']],non_smokers['charges']"
   ]
  },
  {
   "cell_type": "code",
   "execution_count": null,
   "id": "1ce1338b-c161-4ca7-9f2a-82c704ec8502",
   "metadata": {},
   "outputs": [],
   "source": [
    "model = LinearRegression().fit(inputs,targets)"
   ]
  },
  {
   "cell_type": "code",
   "execution_count": null,
   "id": "6cc31814-00bf-4f7d-8518-b3e8ebd1c055",
   "metadata": {},
   "outputs": [],
   "source": [
    "predictions = model.predict(inputs)\n",
    "predictions"
   ]
  },
  {
   "cell_type": "code",
   "execution_count": null,
   "id": "56989247-9164-41f7-8822-953973e3dc83",
   "metadata": {},
   "outputs": [],
   "source": [
    "loss = rmse(targets,predictions)\n",
    "loss"
   ]
  },
  {
   "cell_type": "code",
   "execution_count": null,
   "id": "ea2e4fe0-3eef-47ce-94d9-dc2cfac199b6",
   "metadata": {},
   "outputs": [],
   "source": []
  },
  {
   "cell_type": "code",
   "execution_count": null,
   "id": "ae5027f7-6347-49df-8499-e95f365a38c0",
   "metadata": {},
   "outputs": [],
   "source": [
    "#CONSIDER THE WHOLE DATA FRAME "
   ]
  },
  {
   "cell_type": "code",
   "execution_count": null,
   "id": "42d55cce-f540-47bf-be82-2a21615ea4a5",
   "metadata": {},
   "outputs": [],
   "source": [
    "inputs, targets=medical_df[['age','bmi','children']],medical_df['charges']"
   ]
  },
  {
   "cell_type": "code",
   "execution_count": null,
   "id": "9b83d09c-0327-43e0-93d8-cca52cd91e83",
   "metadata": {},
   "outputs": [],
   "source": [
    "model = LinearRegression().fit(inputs,targets)"
   ]
  },
  {
   "cell_type": "code",
   "execution_count": null,
   "id": "64c8d641-fd45-4088-82c5-628a40c72df9",
   "metadata": {},
   "outputs": [],
   "source": [
    "predictions = model.predict(inputs)\n",
    "predictions"
   ]
  },
  {
   "cell_type": "code",
   "execution_count": null,
   "id": "8b19db5e-ecda-4e50-9b7a-80d386676afa",
   "metadata": {},
   "outputs": [],
   "source": [
    "loss = rmse(targets,predictions) #loss is too high, modeL BECOMES useless\n",
    "loss"
   ]
  },
  {
   "cell_type": "code",
   "execution_count": null,
   "id": "63354c9f-e8aa-410c-a939-161c5aa95c75",
   "metadata": {},
   "outputs": [],
   "source": []
  },
  {
   "cell_type": "code",
   "execution_count": null,
   "id": "e8c41c9e-86a4-4e8f-9098-ac167619c419",
   "metadata": {},
   "outputs": [],
   "source": [
    "#USING CATEGORICAL FEATURES FOR MACHINE LEARNING\n",
    "#BINARY CATEGORIES"
   ]
  },
  {
   "cell_type": "code",
   "execution_count": null,
   "id": "182af00f-3382-4b33-9d55-7427fa1c521d",
   "metadata": {},
   "outputs": [],
   "source": [
    "sns.barplot(data=medical_df, x='smoker', y='charges')"
   ]
  },
  {
   "cell_type": "code",
   "execution_count": null,
   "id": "f8d5fd31-1581-43d3-9667-e344cf87b372",
   "metadata": {},
   "outputs": [],
   "source": [
    "smoker_codes = {'no' : 0, 'yes':1}"
   ]
  },
  {
   "cell_type": "code",
   "execution_count": null,
   "id": "9e898eb2-c59f-4e35-8382-b943e42cd757",
   "metadata": {},
   "outputs": [],
   "source": [
    "medical_df.smoker.map(smoker_codes)"
   ]
  },
  {
   "cell_type": "code",
   "execution_count": null,
   "id": "344bea1f-7d9a-4415-ba57-1b0b7ae98b1d",
   "metadata": {},
   "outputs": [],
   "source": [
    "medical_df['smoker_code']=medical_df.smoker.map(smoker_codes)\n",
    "medical_df"
   ]
  },
  {
   "cell_type": "code",
   "execution_count": null,
   "id": "3a5938ab-e215-485c-80a9-fd92be0ba456",
   "metadata": {},
   "outputs": [],
   "source": [
    "medical_df.charges.corr(medical_df.smoker_code)"
   ]
  },
  {
   "cell_type": "code",
   "execution_count": null,
   "id": "42675ec3-0b2b-4716-9e28-b89452f6cf14",
   "metadata": {},
   "outputs": [],
   "source": []
  },
  {
   "cell_type": "code",
   "execution_count": null,
   "id": "9cf81e3a-2b5f-49c6-bf2d-6fc750f137c3",
   "metadata": {},
   "outputs": [],
   "source": [
    "#use smoker_code for linear regression"
   ]
  },
  {
   "cell_type": "code",
   "execution_count": null,
   "id": "f877dc8a-5e73-4e9a-b59e-9d1301d2ebce",
   "metadata": {},
   "outputs": [],
   "source": [
    "inputs, targets=medical_df[['age','bmi','children','smoker_code']],medical_df['charges']"
   ]
  },
  {
   "cell_type": "code",
   "execution_count": null,
   "id": "dc09fd16-eafb-4bc8-a262-ab660bdefae7",
   "metadata": {},
   "outputs": [],
   "source": [
    "model = LinearRegression().fit(inputs,targets)"
   ]
  },
  {
   "cell_type": "code",
   "execution_count": null,
   "id": "4f824034-3177-478b-8532-e0ef2809a6f5",
   "metadata": {},
   "outputs": [],
   "source": [
    "predictions = model.predict(inputs)\n",
    "predictions"
   ]
  },
  {
   "cell_type": "code",
   "execution_count": null,
   "id": "8c03884e-3ca9-4643-8d57-59cdf8f3b9f8",
   "metadata": {},
   "outputs": [],
   "source": [
    "loss = rmse(targets,predictions) #loss reduces by 50%, nb:never ignore categorical data\n",
    "loss"
   ]
  },
  {
   "cell_type": "code",
   "execution_count": null,
   "id": "acfa2a44-30ae-4fa9-b37b-d1780184d3e0",
   "metadata": {},
   "outputs": [],
   "source": [
    "#LETS ADD 'SEX' : w1*age + w2*bmi + W3*charges + w4*smoker  + w4*sex + b"
   ]
  },
  {
   "cell_type": "code",
   "execution_count": null,
   "id": "19c2116b-3798-443f-b367-5d9a6e1acbf6",
   "metadata": {},
   "outputs": [],
   "source": [
    "sns.barplot(medical_df, x = 'sex', y= 'charges')\n",
    "            "
   ]
  },
  {
   "cell_type": "code",
   "execution_count": null,
   "id": "eb9d51ec-d13b-4770-92fb-96c27713e467",
   "metadata": {},
   "outputs": [],
   "source": [
    "sex_codes = {'female':0, 'male':1}"
   ]
  },
  {
   "cell_type": "markdown",
   "id": "0b1a2926-aab5-4cf2-905c-f8e869b80e47",
   "metadata": {},
   "source": []
  },
  {
   "cell_type": "code",
   "execution_count": null,
   "id": "8d8d2039-69e7-4fda-99d3-f32ede911cec",
   "metadata": {},
   "outputs": [],
   "source": [
    "medical_df['sex_codes']=medical_df.sex.map(sex_codes)\n",
    "medical_df\n"
   ]
  },
  {
   "cell_type": "code",
   "execution_count": null,
   "id": "a51c4d7a-1a4f-4480-a437-45c55c391dce",
   "metadata": {},
   "outputs": [],
   "source": [
    "medical_df.charges.corr(medical_df.sex_codes)"
   ]
  },
  {
   "cell_type": "code",
   "execution_count": null,
   "id": "4c50feca-c861-46ac-ba27-a687adff3cd0",
   "metadata": {},
   "outputs": [],
   "source": [
    "inputs, targets=medical_df[['age','bmi','children','smoker_code','sex_codes']],medical_df['charges']"
   ]
  },
  {
   "cell_type": "code",
   "execution_count": null,
   "id": "4fbba85a-aefb-4171-ab19-d05bd16fcf61",
   "metadata": {},
   "outputs": [],
   "source": [
    "model = LinearRegression().fit(inputs,targets)"
   ]
  },
  {
   "cell_type": "code",
   "execution_count": null,
   "id": "687de05f-a4ee-4928-84eb-628a1aaec501",
   "metadata": {},
   "outputs": [],
   "source": [
    "predictions = model.predict(inputs)\n",
    "predictions"
   ]
  },
  {
   "cell_type": "code",
   "execution_count": null,
   "id": "1813948d-08b9-410c-afd8-df6100fa8c18",
   "metadata": {},
   "outputs": [],
   "source": [
    "loss = rmse(targets,predictions) #we can ignore the sex column\n",
    "loss"
   ]
  },
  {
   "cell_type": "code",
   "execution_count": null,
   "id": "dcc8ea9b-3229-4d68-a97c-a2232f8296a4",
   "metadata": {},
   "outputs": [],
   "source": []
  },
  {
   "cell_type": "code",
   "execution_count": null,
   "id": "4e197c68-b03c-407e-baab-fbeb79f151b3",
   "metadata": {},
   "outputs": [],
   "source": [
    "#LETS CONSIDER THE REGION more than 2 , one hot encoding"
   ]
  },
  {
   "cell_type": "code",
   "execution_count": null,
   "id": "6e2d18ab-0671-45fb-bf86-d325a2231b50",
   "metadata": {},
   "outputs": [],
   "source": [
    "sns.barplot(data=medical_df, x='region', y= 'charges')"
   ]
  },
  {
   "cell_type": "code",
   "execution_count": null,
   "id": "69192a63-3620-4942-a68d-2c8da522aebf",
   "metadata": {},
   "outputs": [],
   "source": [
    "from sklearn import preprocessing"
   ]
  },
  {
   "cell_type": "code",
   "execution_count": null,
   "id": "4c838571-59b6-4b53-8ce3-b4e5bb97ed04",
   "metadata": {},
   "outputs": [],
   "source": [
    "enc = preprocessing.OneHotEncoder()  # Creates an instance of OneHotEncoder, which converts categorical variables into a one-hot numeric array (binary format)"
   ]
  },
  {
   "cell_type": "code",
   "execution_count": null,
   "id": "4538e3ae-83d0-49c9-889b-6afc8cb4e6ca",
   "metadata": {},
   "outputs": [],
   "source": [
    "enc.fit(medical_df[['region']])"
   ]
  },
  {
   "cell_type": "code",
   "execution_count": null,
   "id": "d138d653-fa6e-4fe7-91fa-402567a3d276",
   "metadata": {},
   "outputs": [],
   "source": [
    "enc.categories_"
   ]
  },
  {
   "cell_type": "code",
   "execution_count": null,
   "id": "2e07c41e-85ac-493b-8545-1fc3e4a2bc5a",
   "metadata": {},
   "outputs": [],
   "source": [
    "enc.transform([['northeast']]).toarray()  # Transforms the category 'northeast' into its one-hot encoded vector based on the fitted encoder"
   ]
  },
  {
   "cell_type": "code",
   "execution_count": null,
   "id": "2f0de112-84f0-476b-a979-5bfd9a641bc0",
   "metadata": {},
   "outputs": [],
   "source": [
    "enc.transform([['northeast'],\n",
    "             ['northwest']]).toarray()"
   ]
  },
  {
   "cell_type": "code",
   "execution_count": null,
   "id": "039f3fa4-7027-464e-8196-a009c7a2a871",
   "metadata": {},
   "outputs": [],
   "source": [
    "one_hot = enc.transform(medical_df[['region']]).toarray()\n",
    "one_hot"
   ]
  },
  {
   "cell_type": "code",
   "execution_count": null,
   "id": "25c847c4-a892-4b40-b3a2-0de3feceb438",
   "metadata": {},
   "outputs": [],
   "source": [
    "medical_df[['northeast', 'northwest', 'southeast', 'southwest']] = one_hot\n",
    "medical_df"
   ]
  },
  {
   "cell_type": "code",
   "execution_count": null,
   "id": "246d29bb-5970-4a3d-8cf4-5012da52b4d6",
   "metadata": {},
   "outputs": [],
   "source": []
  },
  {
   "cell_type": "code",
   "execution_count": null,
   "id": "9b1c9d16-5334-497a-8241-d6d56ffc8ddc",
   "metadata": {},
   "outputs": [],
   "source": [
    "#LETS INCLUDE REGION IN OUR MODEL"
   ]
  },
  {
   "cell_type": "code",
   "execution_count": null,
   "id": "58925529-d98a-41b9-a8c6-23aed9fda0b7",
   "metadata": {},
   "outputs": [],
   "source": [
    "inputs, targets=medical_df[['age','bmi','children','smoker_code','sex_codes','northeast', 'northwest', 'southeast', 'southwest']],medical_df['charges']"
   ]
  },
  {
   "cell_type": "code",
   "execution_count": null,
   "id": "7d1bb1d3-89c2-4906-ba1e-100b7542a6f4",
   "metadata": {},
   "outputs": [],
   "source": [
    "model = LinearRegression().fit(inputs,targets)"
   ]
  },
  {
   "cell_type": "code",
   "execution_count": null,
   "id": "bc0799b6-463f-4709-8b81-b661fee6e743",
   "metadata": {},
   "outputs": [],
   "source": [
    "predictions = model.predict(inputs)\n",
    "predictions"
   ]
  },
  {
   "cell_type": "code",
   "execution_count": null,
   "id": "7e59df9a-eb18-4567-aee6-9c03eef2860f",
   "metadata": {},
   "outputs": [],
   "source": [
    "loss = rmse(targets,predictions) #we can ignore the sex column\n",
    "loss"
   ]
  },
  {
   "cell_type": "code",
   "execution_count": null,
   "id": "e730810c-bf7b-44b8-b353-ae0b7af82836",
   "metadata": {},
   "outputs": [],
   "source": [
    "model.coef_ #model = w1*age + w2*bmi + w3*charges + w4*smoker + w5*sex + w6*region + "
   ]
  },
  {
   "cell_type": "code",
   "execution_count": null,
   "id": "2055b9f6-35f7-41b6-9f13-048f8a5e14f9",
   "metadata": {},
   "outputs": [],
   "source": [
    "model.intercept_"
   ]
  },
  {
   "cell_type": "code",
   "execution_count": null,
   "id": "c156d554-31f5-494f-bd7d-5947e6d7ba39",
   "metadata": {},
   "outputs": [],
   "source": []
  },
  {
   "cell_type": "code",
   "execution_count": null,
   "id": "0ec3f7a4-9b92-4e77-a101-0f5355177b98",
   "metadata": {},
   "outputs": [],
   "source": [
    "#given a new patient to find his charges. age is 28, bmi is 30, have 2 children, smokers:1,female:0, northwest region : 0,1,0,0."
   ]
  },
  {
   "cell_type": "code",
   "execution_count": null,
   "id": "218cd3e4-74cd-459e-82d3-04157c40b317",
   "metadata": {},
   "outputs": [],
   "source": [
    "model.predict([[28,30,2,1,0,0.0,1.0,0.0,0.0]]) #model = w1*age + w2*bmi + w3*charges + w4*smoker + w5*sex + w6*region + b"
   ]
  },
  {
   "cell_type": "code",
   "execution_count": null,
   "id": "e8d1a135-97c3-4b41-94e9-385ef5cb129d",
   "metadata": {},
   "outputs": [],
   "source": []
  },
  {
   "cell_type": "code",
   "execution_count": null,
   "id": "b92d1536-ff09-4d64-8549-12008e4f4b53",
   "metadata": {},
   "outputs": [],
   "source": [
    "#STANDARDAZATION"
   ]
  },
  {
   "cell_type": "code",
   "execution_count": null,
   "id": "f492c320-85ac-4a40-a7d0-111e54cc3d63",
   "metadata": {},
   "outputs": [],
   "source": [
    "from sklearn.preprocessing import StandardScaler"
   ]
  },
  {
   "cell_type": "code",
   "execution_count": null,
   "id": "5d8021f6-6e93-4c65-8c73-df862388039a",
   "metadata": {},
   "outputs": [],
   "source": [
    "numeric_cols = ['age', 'bmi','children']"
   ]
  },
  {
   "cell_type": "code",
   "execution_count": null,
   "id": "f17fdfba-250c-479e-9528-c52b39ee9ec5",
   "metadata": {},
   "outputs": [],
   "source": [
    "scaler = StandardScaler()"
   ]
  },
  {
   "cell_type": "code",
   "execution_count": null,
   "id": "b1335697-c641-4a3b-b031-e4e169cd55bb",
   "metadata": {},
   "outputs": [],
   "source": [
    "scaler.fit(medical_df[numeric_cols])"
   ]
  },
  {
   "cell_type": "code",
   "execution_count": null,
   "id": "d899af0f-ab07-46f3-a710-24a793fa7ee0",
   "metadata": {},
   "outputs": [],
   "source": [
    "scaler.mean_"
   ]
  },
  {
   "cell_type": "code",
   "execution_count": null,
   "id": "d8efe549-9520-46b2-bc87-fdb15c032874",
   "metadata": {},
   "outputs": [],
   "source": [
    "scaler.var_"
   ]
  },
  {
   "cell_type": "code",
   "execution_count": null,
   "id": "8eef36d7-743b-40c3-ad69-e6a0b5224916",
   "metadata": {},
   "outputs": [],
   "source": [
    "scaled_inputs = scaler.transform(medical_df[numeric_cols]) #TRANSFORMIMG \n",
    "scaled_inputs"
   ]
  },
  {
   "cell_type": "code",
   "execution_count": null,
   "id": "85360a36-1a6a-40de-b2c4-cc2319b0d613",
   "metadata": {},
   "outputs": [],
   "source": []
  },
  {
   "cell_type": "code",
   "execution_count": null,
   "id": "0032f714-72a5-4734-a49c-069801578cac",
   "metadata": {},
   "outputs": [],
   "source": [
    "#CATEGORICAL"
   ]
  },
  {
   "cell_type": "code",
   "execution_count": null,
   "id": "690da14b-6c89-49b2-926f-e712519471c9",
   "metadata": {},
   "outputs": [],
   "source": [
    "medical_df.columns"
   ]
  },
  {
   "cell_type": "code",
   "execution_count": null,
   "id": "cadd23c9-f18f-4f71-97e0-4708f46282ab",
   "metadata": {},
   "outputs": [],
   "source": [
    "cat_cols = ['smoker_code', 'sex_codes', 'northeast', 'northwest', 'southeast',\n",
    "       'southwest']"
   ]
  },
  {
   "cell_type": "code",
   "execution_count": null,
   "id": "8d2b75ed-e536-407b-bdf2-bdcd95cfd688",
   "metadata": {},
   "outputs": [],
   "source": [
    "categorical_data = medical_df[cat_cols].values"
   ]
  },
  {
   "cell_type": "code",
   "execution_count": null,
   "id": "6a79e447-2d73-4818-bf63-31a679029ce1",
   "metadata": {},
   "outputs": [],
   "source": [
    "inputs.iloc[0] #SCALING DOESNT AFFECT LOSS . IT AFFECTS THE WEIGHTS"
   ]
  },
  {
   "cell_type": "code",
   "execution_count": null,
   "id": "ac5a572b-cf06-4893-a432-9fc0bf3d010c",
   "metadata": {},
   "outputs": [],
   "source": [
    "new_cust=model.predict([[28,30,2,1,0,0.0,1.0,0.0,0.0]])"
   ]
  },
  {
   "cell_type": "code",
   "execution_count": null,
   "id": "60899d89-9d65-4829-aa5c-b6ea4671eaec",
   "metadata": {},
   "outputs": [],
   "source": [
    "scaler.transform([[28,30,2]])"
   ]
  },
  {
   "cell_type": "code",
   "execution_count": null,
   "id": "61641f9d-a153-41c6-848a-558da588a16d",
   "metadata": {},
   "outputs": [],
   "source": [
    "model.predict([[-0.79795355, -0.10882659,  0.75107928,1,0,0.0,1.0,0.0,0.0]])"
   ]
  },
  {
   "cell_type": "code",
   "execution_count": null,
   "id": "b5833c5a-54a1-4e93-8393-608b00a0165d",
   "metadata": {},
   "outputs": [],
   "source": []
  },
  {
   "cell_type": "code",
   "execution_count": null,
   "id": "05e4f956-387e-400b-9587-4dbf52f737f6",
   "metadata": {},
   "outputs": [],
   "source": [
    "#CREATING A TEST SET (eg= 10%)"
   ]
  },
  {
   "cell_type": "code",
   "execution_count": null,
   "id": "f62bac89-5171-49de-a77c-0ba80573ce0d",
   "metadata": {},
   "outputs": [],
   "source": [
    "from sklearn.model_selection import train_test_split"
   ]
  },
  {
   "cell_type": "code",
   "execution_count": null,
   "id": "cdcd8b41-24bd-41c0-b320-3181e375d3fc",
   "metadata": {},
   "outputs": [],
   "source": [
    "inputs_train,inputs_test,targets_train, targets_test = train_test_split(inputs,targets,test_size=0.1) # Splits the inputs and targets into training and testing sets.\n",
    "# 10% of the data is reserved for testing, and 90% for training."
   ]
  },
  {
   "cell_type": "code",
   "execution_count": null,
   "id": "7ca5ce3e-1488-4304-a0ee-437bc7ecfacd",
   "metadata": {},
   "outputs": [],
   "source": [
    "model = LinearRegression().fit(inputs_train,targets_train)"
   ]
  },
  {
   "cell_type": "code",
   "execution_count": null,
   "id": "b82171c8-12ac-4ef2-858e-28b2f89fc4e3",
   "metadata": {},
   "outputs": [],
   "source": [
    "prediction_test = model.predict(inputs_test)\n",
    "prediction_test"
   ]
  },
  {
   "cell_type": "code",
   "execution_count": null,
   "id": "b15be399-3ecb-4dae-8744-f144c61084c2",
   "metadata": {},
   "outputs": [],
   "source": [
    "loss = rmse(targets_test,prediction_test)  # Calculates the RMSE between actual and predicted values on the test set to evaluate model performance\n",
    "loss"
   ]
  },
  {
   "cell_type": "code",
   "execution_count": null,
   "id": "c22db2ca-7a6b-4d90-aab0-c6250b38d08b",
   "metadata": {},
   "outputs": [],
   "source": []
  },
  {
   "cell_type": "code",
   "execution_count": null,
   "id": "bb95eab6-6660-4e55-82b4-74d58121a4b6",
   "metadata": {},
   "outputs": [],
   "source": [
    "prediction_train=model.predict(inputs_train)"
   ]
  },
  {
   "cell_type": "code",
   "execution_count": null,
   "id": "8d2db609-d139-48d0-b5b4-7106d3add403",
   "metadata": {},
   "outputs": [],
   "source": [
    "loss = rmse(targets_train,prediction_train) # Calculates the root mean squared error (RMSE) between the actual and predicted values in the training set\n",
    "loss"
   ]
  },
  {
   "cell_type": "code",
   "execution_count": null,
   "id": "a89d8d27-e706-4d72-8f20-dfde9f2d1bc8",
   "metadata": {},
   "outputs": [],
   "source": []
  }
 ],
 "metadata": {
  "kernelspec": {
   "display_name": "Python 3 (ipykernel)",
   "language": "python",
   "name": "python3"
  },
  "language_info": {
   "codemirror_mode": {
    "name": "ipython",
    "version": 3
   },
   "file_extension": ".py",
   "mimetype": "text/x-python",
   "name": "python",
   "nbconvert_exporter": "python",
   "pygments_lexer": "ipython3",
   "version": "3.8.10"
  }
 },
 "nbformat": 4,
 "nbformat_minor": 5
}
