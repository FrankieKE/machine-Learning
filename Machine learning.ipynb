{
 "cells": [
  {
   "cell_type": "code",
   "execution_count": null,
   "id": "13cd1b07-a3e9-418d-acd5-cd6c2aceadb7",
   "metadata": {},
   "outputs": [],
   "source": [
    "#LOGISTIC REGRESSION\n",
    "#DOWNLOADING DATASETS"
   ]
  },
  {
   "cell_type": "code",
   "execution_count": null,
   "id": "21a3bfdf-0623-485f-a581-d0c2bf4a2abe",
   "metadata": {},
   "outputs": [],
   "source": [
    "!pip install opendatasets --upgrade --quiet"
   ]
  },
  {
   "cell_type": "code",
   "execution_count": null,
   "id": "2cbdc84f-164e-461c-8e50-afefc53fb63a",
   "metadata": {},
   "outputs": [],
   "source": [
    "import opendatasets as od # Importing the 'opendatasets' library and giving it the alias 'od'"
   ]
  },
  {
   "cell_type": "code",
   "execution_count": null,
   "id": "377ea28c-41e0-412a-aa14-23bbee7eba69",
   "metadata": {},
   "outputs": [],
   "source": [
    "od.version()"
   ]
  },
  {
   "cell_type": "code",
   "execution_count": null,
   "id": "2053dc8c-b1e6-4802-990d-9fe90d888030",
   "metadata": {},
   "outputs": [],
   "source": [
    "dataset_url = 'https://www.kaggle.com/jsphyg/weather-dataset-rattle-package'"
   ]
  },
  {
   "cell_type": "code",
   "execution_count": null,
   "id": "3aaeece3-d000-4f90-8839-b307ad06ec3d",
   "metadata": {},
   "outputs": [],
   "source": [
    "od.download(dataset_url) # Downloading the dataset from the provided URL"
   ]
  },
  {
   "cell_type": "code",
   "execution_count": null,
   "id": "7e994f5a-51e2-49bf-b498-c5b2ce24221e",
   "metadata": {},
   "outputs": [],
   "source": [
    "od.download(dataset_url)"
   ]
  },
  {
   "cell_type": "code",
   "execution_count": null,
   "id": "234d1fe6-37f5-40b5-9416-07225d6df88c",
   "metadata": {},
   "outputs": [],
   "source": [
    "import os # Importing the built-in 'os' module to interact with the operating system"
   ]
  },
  {
   "cell_type": "code",
   "execution_count": null,
   "id": "b91c9c08-cc8f-4271-abcd-369974264bf9",
   "metadata": {},
   "outputs": [],
   "source": [
    "data_dir = './weather-dataset-rattle-package' # Defining the directory path where the weather dataset will be stored or accessed"
   ]
  },
  {
   "cell_type": "code",
   "execution_count": null,
   "id": "098c5c55-024c-4853-a99d-f98d3c59ee6b",
   "metadata": {},
   "outputs": [],
   "source": [
    "os.listdir(data_dir) # Listing all files and directories in the specified data directory"
   ]
  },
  {
   "cell_type": "code",
   "execution_count": null,
   "id": "b3aa0429-ee38-4d15-8495-253489e810b1",
   "metadata": {},
   "outputs": [],
   "source": [
    "train_csv = data_dir + '/weatherAUS.csv' # Creating the full path to the CSV file containing the weather dataset"
   ]
  },
  {
   "cell_type": "code",
   "execution_count": null,
   "id": "d8192283-8a24-481c-9d5f-032117696d02",
   "metadata": {},
   "outputs": [],
   "source": [
    "!pip install pandas --quiet\n",
    "!pip install plotly matplotlib seaborn --quiet"
   ]
  },
  {
   "cell_type": "code",
   "execution_count": null,
   "id": "1228d39a-28bc-4695-954e-eb4d3f2136f8",
   "metadata": {},
   "outputs": [],
   "source": [
    "import pandas as pd\n",
    "import plotly.express as px\n",
    "import matplotlib\n",
    "import matplotlib.pyplot as plt\n",
    "import seaborn as sns\n",
    "%matplotlib inline\n",
    "import numpy as np"
   ]
  },
  {
   "cell_type": "code",
   "execution_count": null,
   "id": "c28bae4d-a454-4b9b-8979-219ee8458eb8",
   "metadata": {},
   "outputs": [],
   "source": [
    "raw_df = pd.read_csv(train_csv)\n",
    "raw_df"
   ]
  },
  {
   "cell_type": "code",
   "execution_count": null,
   "id": "78ddd2bf-c609-4625-9878-330b31076e1b",
   "metadata": {},
   "outputs": [],
   "source": [
    "raw_df.info()"
   ]
  },
  {
   "cell_type": "code",
   "execution_count": null,
   "id": "9b9f2dba-5281-47a5-8f11-0a3460eb39f0",
   "metadata": {},
   "outputs": [],
   "source": [
    "raw_df.dropna(subset=['RainToday','RainTomorrow'],inplace=True)\n",
    "raw_df.info()"
   ]
  },
  {
   "cell_type": "code",
   "execution_count": null,
   "id": "9db2bad8-2b57-401a-b0fc-684888ea1500",
   "metadata": {},
   "outputs": [],
   "source": [
    "### Exploratory Data Analysis and Visualization\n",
    "\n",
    "\n",
    "sns.set_style('darkgrid') # Setting the visual style for seaborn plots to 'darkgrid' (adds a dark grid to the background)\n",
    "matplotlib.rcParams['font.size'] = 14 # Setting default font size for all matplotlib plots\n",
    "matplotlib.rcParams['figure.figsize'] = (10, 6) # Setting default figure size (width=10, height=6 inches) for matplotlib plots\n",
    "matplotlib.rcParams['figure.facecolor'] = '#00000000' \n",
    "# Setting the default background color of the figure to transparent"
   ]
  },
  {
   "cell_type": "code",
   "execution_count": null,
   "id": "083dd248-8d53-43c7-9001-bb06fda3cc2e",
   "metadata": {},
   "outputs": [],
   "source": [
    "px.histogram(raw_df, x='Location', title='Location vs. Rainy Days', color='RainToday') # Creating an interactive histogram using Plotly to show the number of rainy and non-rainy days by location"
   ]
  },
  {
   "cell_type": "code",
   "execution_count": null,
   "id": "1b88b7eb-f09a-4f64-a658-95c44b6a3934",
   "metadata": {},
   "outputs": [],
   "source": []
  },
  {
   "cell_type": "code",
   "execution_count": null,
   "id": "13caacec-cb0a-482b-a4e5-f6432b0d3873",
   "metadata": {},
   "outputs": [],
   "source": [
    "px.histogram(raw_df, \n",
    "             x='Temp3pm', \n",
    "             title='Temperature at 3 pm vs. Rain Tomorrow', \n",
    "             color='RainTomorrow')"
   ]
  },
  {
   "cell_type": "code",
   "execution_count": null,
   "id": "46fb2799-15b7-4f6a-a2f9-4d4531812b6c",
   "metadata": {},
   "outputs": [],
   "source": []
  },
  {
   "cell_type": "code",
   "execution_count": null,
   "id": "d9ce5430-dfc5-437c-9930-34fe202e98d8",
   "metadata": {},
   "outputs": [],
   "source": [
    "px.histogram(raw_df, \n",
    "             x='RainTomorrow', \n",
    "             color='RainToday', \n",
    "             title='Rain Tomorrow vs. Rain Today') #predicting no rain tommorrow because it didnt rainy today is easier, 92k instances"
   ]
  },
  {
   "cell_type": "code",
   "execution_count": null,
   "id": "6fc08653-aa2e-417c-a3af-18d2d37d2d64",
   "metadata": {},
   "outputs": [],
   "source": []
  },
  {
   "cell_type": "code",
   "execution_count": null,
   "id": "65ada7dd-6c70-4d35-8906-220037e7ba73",
   "metadata": {},
   "outputs": [],
   "source": [
    "px.scatter(raw_df.sample(2000), \n",
    "           title='Min Temp. vs Max Temp.',\n",
    "           x='MinTemp', \n",
    "           y='MaxTemp', \n",
    "           color='RainToday')"
   ]
  },
  {
   "cell_type": "code",
   "execution_count": null,
   "id": "7a2bc3a8-0466-493f-8898-86d5cca31a76",
   "metadata": {},
   "outputs": [],
   "source": []
  },
  {
   "cell_type": "code",
   "execution_count": null,
   "id": "5543b15d-f642-4233-b0c8-5b9aef520031",
   "metadata": {},
   "outputs": [],
   "source": [
    "px.scatter(raw_df.sample(2000), \n",
    "           title='Temp (3 pm) vs. Humidity (3 pm)',\n",
    "           x='Temp3pm',\n",
    "           y='Humidity3pm',\n",
    "           color='RainTomorrow')"
   ]
  },
  {
   "cell_type": "code",
   "execution_count": null,
   "id": "36e0f53b-0034-4802-8e4a-7cd5ec7883df",
   "metadata": {},
   "outputs": [],
   "source": []
  },
  {
   "cell_type": "code",
   "execution_count": null,
   "id": "250a80b9-c19e-4e57-bf0c-e2c504f3433a",
   "metadata": {},
   "outputs": [],
   "source": [
    "# Working with a Sample"
   ]
  },
  {
   "cell_type": "code",
   "execution_count": null,
   "id": "7d56fb79-fe80-400f-999c-54c15c69c83d",
   "metadata": {},
   "outputs": [],
   "source": [
    "use_sample = False # Setting a flag to indicate whether to use a sample of the dataset or the full dataset #False: Means the full dataset will be used instead of a smaller sample."
   ]
  },
  {
   "cell_type": "code",
   "execution_count": null,
   "id": "b5f848a9-6622-45c6-bbe5-ca96278f2ba9",
   "metadata": {},
   "outputs": [],
   "source": [
    "sample_fraction = 0.1"
   ]
  },
  {
   "cell_type": "code",
   "execution_count": null,
   "id": "16b272e8-e448-45ac-aba2-e3302546c9bd",
   "metadata": {},
   "outputs": [],
   "source": [
    "if use_sample:\n",
    "    raw_df = raw_df.sample(frac=sample_fraction).copy() # Randomly selects a fraction of the rows from the DataFrame raw_df. The fraction is determined by the value of sample_fraction"
   ]
  },
  {
   "cell_type": "code",
   "execution_count": null,
   "id": "b7b9c299-6351-41bd-a3e1-6a1ee9dedb21",
   "metadata": {},
   "outputs": [],
   "source": []
  },
  {
   "cell_type": "code",
   "execution_count": null,
   "id": "79dcb3e6-7a07-4ce2-b517-09e351fb1b64",
   "metadata": {},
   "outputs": [],
   "source": [
    "#Training, Validation and Test Sets"
   ]
  },
  {
   "cell_type": "code",
   "execution_count": null,
   "id": "4be26047-f017-4d4c-b718-5c588b46d58f",
   "metadata": {},
   "outputs": [],
   "source": [
    "!pip install scikit-learn --upgrade --quiet"
   ]
  },
  {
   "cell_type": "code",
   "execution_count": null,
   "id": "5eefd53f-831f-46d4-8d56-971f8ce5ddb7",
   "metadata": {},
   "outputs": [],
   "source": [
    "from sklearn.model_selection import train_test_split # Importing the train_test_split function from scikit-learn to split data into training and testing sets\n"
   ]
  },
  {
   "cell_type": "code",
   "execution_count": null,
   "id": "e9e91b3a-f308-488c-95ea-9f71e1896b38",
   "metadata": {},
   "outputs": [],
   "source": [
    "train_val_df, test_df = train_test_split(raw_df, test_size=0.2, random_state=42) # Splitting the original dataset into training+validation (80%) and test (20%) sets\n",
    "train_df, val_df = train_test_split(train_val_df, test_size=0.25, random_state=42)# Further splitting the training+validation set into training (75%) and validation (25%) sets"
   ]
  },
  {
   "cell_type": "code",
   "execution_count": null,
   "id": "061bf2b7-3f40-451b-bdad-19ff7322d26a",
   "metadata": {},
   "outputs": [],
   "source": [
    "print('train_df.shape :', train_df.shape) # Printing the number of rows and columns in the training, validation, and test datasets\n",
    "print('val_df.shape :', val_df.shape)\n",
    "print('test_df.shape :', test_df.shape)"
   ]
  },
  {
   "cell_type": "code",
   "execution_count": null,
   "id": "f2196adb-2c15-4c5f-9563-95daca8b44d6",
   "metadata": {},
   "outputs": [],
   "source": []
  },
  {
   "cell_type": "code",
   "execution_count": null,
   "id": "72e63cb6-4f42-4e10-98cc-89687579bcd6",
   "metadata": {},
   "outputs": [],
   "source": [
    "plt.title('No. of Rows per Year')\n",
    "sns.countplot(x=pd.to_datetime(raw_df.Date).dt.year); # Creating a count plot to show the number of data entries (rows) per year in the dataset"
   ]
  },
  {
   "cell_type": "code",
   "execution_count": null,
   "id": "9dcbc8b6-9090-4b88-b706-dedc86617467",
   "metadata": {},
   "outputs": [],
   "source": [
    "year = pd.to_datetime(raw_df.Date).dt.year # Extracting the year from the 'Date' column\n",
    "\n",
    "train_df = raw_df[year < 2015] # Creating the training set with data from before 2015\n",
    "val_df = raw_df[year == 2015]# Creating the validation set with data from the year 2015\n",
    "test_df = raw_df[year > 2015]# Creating the test set with data from after 2015"
   ]
  },
  {
   "cell_type": "code",
   "execution_count": null,
   "id": "41d7e247-e21f-410d-ab41-2470670c90e4",
   "metadata": {},
   "outputs": [],
   "source": [
    "print('train_df.shape :', train_df.shape)\n",
    "print('val_df.shape :', val_df.shape)\n",
    "print('test_df.shape :', test_df.shape)"
   ]
  },
  {
   "cell_type": "code",
   "execution_count": null,
   "id": "bbe29db4-1a6f-4a91-b85c-8f42c95a78c1",
   "metadata": {},
   "outputs": [],
   "source": []
  },
  {
   "cell_type": "code",
   "execution_count": null,
   "id": "8516b96a-725f-49a7-880a-95c28af91f15",
   "metadata": {},
   "outputs": [],
   "source": [
    "train_df"
   ]
  },
  {
   "cell_type": "code",
   "execution_count": null,
   "id": "716c7dbd-aef4-4a5d-99b9-7da8aa52480e",
   "metadata": {},
   "outputs": [],
   "source": []
  },
  {
   "cell_type": "code",
   "execution_count": null,
   "id": "1ddf3cad-3c78-4df3-960d-eb0ab6d8d8aa",
   "metadata": {},
   "outputs": [],
   "source": [
    "val_df"
   ]
  },
  {
   "cell_type": "code",
   "execution_count": null,
   "id": "780641d2-86b5-4ceb-80f5-58351fd75cfc",
   "metadata": {},
   "outputs": [],
   "source": []
  },
  {
   "cell_type": "code",
   "execution_count": null,
   "id": "5765e19b-bb8a-4516-8f16-8d1b8fee0537",
   "metadata": {},
   "outputs": [],
   "source": [
    "test_df"
   ]
  },
  {
   "cell_type": "code",
   "execution_count": null,
   "id": "2f570a76-f4b8-4465-a69a-c3118a8daa90",
   "metadata": {},
   "outputs": [],
   "source": []
  },
  {
   "cell_type": "code",
   "execution_count": null,
   "id": "c6de7912-275d-4746-a98b-d461bc115d8e",
   "metadata": {},
   "outputs": [],
   "source": [
    "#Identifying Input and Target Columns"
   ]
  },
  {
   "cell_type": "code",
   "execution_count": null,
   "id": "48ecb922-51b9-446d-b641-1180ba15cefd",
   "metadata": {},
   "outputs": [],
   "source": [
    "input_cols = list(train_df.columns)[1:-1] #[1:-1] slices the list of column names: Starts from the second column (index 1) Goes up to but not including the last column\n",
    "target_col = 'RainTomorrow'"
   ]
  },
  {
   "cell_type": "code",
   "execution_count": null,
   "id": "11bc4b80-6231-4b39-bdce-1a5f73718909",
   "metadata": {},
   "outputs": [],
   "source": [
    "print(input_cols)"
   ]
  },
  {
   "cell_type": "code",
   "execution_count": null,
   "id": "6dde4dbf-4b19-4e3c-8404-38de02e45f0b",
   "metadata": {},
   "outputs": [],
   "source": [
    "target_col"
   ]
  },
  {
   "cell_type": "code",
   "execution_count": null,
   "id": "45c64937-7227-4da5-a994-9da96e89aef5",
   "metadata": {},
   "outputs": [],
   "source": []
  },
  {
   "cell_type": "code",
   "execution_count": null,
   "id": "b163e9b6-c85f-4c5a-9c62-77a228a3ca72",
   "metadata": {},
   "outputs": [],
   "source": [
    "train_inputs = train_df[input_cols].copy() # Extracting the input features and target variable from the train DataFrame\n",
    "train_targets = train_df[target_col].copy() #copy(): Creates a copy of the selected data. This prevents any changes to test_inputs from affecting the original test_df DataFrame."
   ]
  },
  {
   "cell_type": "code",
   "execution_count": null,
   "id": "e3e98b6f-b52c-48d2-b29e-c5a3f0379b26",
   "metadata": {},
   "outputs": [],
   "source": [
    "val_inputs = val_df[input_cols].copy() # Extracting the input features and target variable from the validation DataFrame\n",
    "val_targets = val_df[target_col].copy()"
   ]
  },
  {
   "cell_type": "code",
   "execution_count": null,
   "id": "26198cff-4977-468e-b1c6-36569d69cd44",
   "metadata": {},
   "outputs": [],
   "source": [
    "test_inputs = test_df[input_cols].copy() # Extracting the input features and target variable from the test DataFrame\n",
    "test_targets = test_df[target_col].copy()"
   ]
  },
  {
   "cell_type": "code",
   "execution_count": null,
   "id": "83ca8c07-8e96-4abe-af55-0495d57b3e51",
   "metadata": {},
   "outputs": [],
   "source": []
  },
  {
   "cell_type": "code",
   "execution_count": null,
   "id": "2eb7d5b2-0041-45b7-97de-ccc6fb3cfc1e",
   "metadata": {},
   "outputs": [],
   "source": [
    "train_inputs"
   ]
  },
  {
   "cell_type": "code",
   "execution_count": null,
   "id": "bee493b9-ca33-443f-afbe-e415b379b5af",
   "metadata": {},
   "outputs": [],
   "source": [
    "train_targets"
   ]
  },
  {
   "cell_type": "code",
   "execution_count": null,
   "id": "fbea66d8-5bdf-42d1-aa23-9267616851c7",
   "metadata": {},
   "outputs": [],
   "source": []
  },
  {
   "cell_type": "code",
   "execution_count": null,
   "id": "4082f106-c58f-4994-b892-37055a64acbd",
   "metadata": {},
   "outputs": [],
   "source": [
    "numeric_cols = train_inputs.select_dtypes(include=np.number).columns.tolist() # Selecting numeric columns from the training input DataFrame\n",
    "categorical_cols = train_inputs.select_dtypes('object').columns.tolist() # Selecting categorical columns from the training input DataFrame #Selects columns from the train_inputs DataFrame that contain categorical data (typically stored as strings or object dtype).\n",
    "numeric_cols"
   ]
  },
  {
   "cell_type": "code",
   "execution_count": null,
   "id": "87faa90b-7214-4d9d-bcc6-571e8abf99a6",
   "metadata": {},
   "outputs": [],
   "source": [
    "categorical_cols"
   ]
  },
  {
   "cell_type": "code",
   "execution_count": null,
   "id": "6576e4e9-efb5-4d78-91ba-3f225af66bb3",
   "metadata": {},
   "outputs": [],
   "source": [
    "train_inputs[numeric_cols].describe()"
   ]
  },
  {
   "cell_type": "code",
   "execution_count": null,
   "id": "40b0b4e3-477c-41f5-997a-2d9a2a6802ba",
   "metadata": {},
   "outputs": [],
   "source": []
  },
  {
   "cell_type": "code",
   "execution_count": null,
   "id": "c95b424b-c593-4f67-9c27-68f269f12c89",
   "metadata": {},
   "outputs": [],
   "source": [
    "train_inputs[categorical_cols].nunique()"
   ]
  },
  {
   "cell_type": "code",
   "execution_count": null,
   "id": "e8e5e379-23a6-4fa4-ae4e-4ca5ba95aa9b",
   "metadata": {},
   "outputs": [],
   "source": []
  },
  {
   "cell_type": "code",
   "execution_count": null,
   "id": "3fdfc456-0c3d-4168-a137-e96369c4de06",
   "metadata": {},
   "outputs": [],
   "source": [
    "#INPUTING MISSING VALUES\n"
   ]
  },
  {
   "cell_type": "code",
   "execution_count": null,
   "id": "634136cc-9762-4ea3-87d4-b88af2444a37",
   "metadata": {},
   "outputs": [],
   "source": [
    "raw_df[numeric_cols].isna().sum()"
   ]
  },
  {
   "cell_type": "code",
   "execution_count": null,
   "id": "1b002d2c-2378-4d5e-92a0-d8d74dc0ba1e",
   "metadata": {},
   "outputs": [],
   "source": [
    "train_inputs[numeric_cols].isna().sum()"
   ]
  },
  {
   "cell_type": "code",
   "execution_count": null,
   "id": "3e274f7b-47e2-4291-ba1c-062ff3ee6dbb",
   "metadata": {},
   "outputs": [],
   "source": [
    "from sklearn.impute import SimpleImputer"
   ]
  },
  {
   "cell_type": "code",
   "execution_count": null,
   "id": "6e3c06ca-a7a8-45a0-b44e-68fd446d5e3f",
   "metadata": {},
   "outputs": [],
   "source": [
    "imputer = SimpleImputer(strategy = 'mean')"
   ]
  },
  {
   "cell_type": "code",
   "execution_count": null,
   "id": "bd9e52e6-efbd-4c24-b1e8-d83de6c23a09",
   "metadata": {},
   "outputs": [],
   "source": [
    "imputer.fit(raw_df[numeric_cols])"
   ]
  },
  {
   "cell_type": "code",
   "execution_count": null,
   "id": "3998849d-2519-4026-bc15-3fe99bba31f9",
   "metadata": {},
   "outputs": [],
   "source": [
    "list(imputer.statistics_)"
   ]
  },
  {
   "cell_type": "code",
   "execution_count": null,
   "id": "24d73f7c-8076-434c-aebf-14c9508c4099",
   "metadata": {},
   "outputs": [],
   "source": [
    "train_inputs[numeric_cols] = imputer.transform(train_inputs[numeric_cols])\n",
    "val_inputs[numeric_cols] = imputer.transform(val_inputs[numeric_cols])\n",
    "test_inputs[numeric_cols] = imputer.transform(test_inputs[numeric_cols])"
   ]
  },
  {
   "cell_type": "code",
   "execution_count": null,
   "id": "4147ee94-ebac-4561-b106-ab1d8bb4dc7a",
   "metadata": {},
   "outputs": [],
   "source": [
    "train_inputs[numeric_cols].isna().sum()"
   ]
  },
  {
   "cell_type": "code",
   "execution_count": null,
   "id": "d449cf45-da42-4e24-b019-a28d25899676",
   "metadata": {},
   "outputs": [],
   "source": []
  },
  {
   "cell_type": "code",
   "execution_count": null,
   "id": "40de2370-45db-43e4-ac67-1b847c9fadbe",
   "metadata": {},
   "outputs": [],
   "source": []
  },
  {
   "cell_type": "code",
   "execution_count": null,
   "id": "00dc46f2-f5a2-45fc-a083-0ecf40112dbc",
   "metadata": {},
   "outputs": [],
   "source": [
    "#Scaling Numeric Features"
   ]
  },
  {
   "cell_type": "code",
   "execution_count": null,
   "id": "b4353237-3aba-46e8-8443-02789f1318c4",
   "metadata": {},
   "outputs": [],
   "source": [
    "from sklearn.preprocessing import MinMaxScaler"
   ]
  },
  {
   "cell_type": "code",
   "execution_count": null,
   "id": "80033318-2634-4eb5-9b51-1f9b23c9bc9e",
   "metadata": {},
   "outputs": [],
   "source": [
    "?MinMaxScaler"
   ]
  },
  {
   "cell_type": "code",
   "execution_count": null,
   "id": "1af0d011-a624-4740-9c7c-ac7b68bbf4b4",
   "metadata": {},
   "outputs": [],
   "source": [
    "scaler = MinMaxScaler()"
   ]
  },
  {
   "cell_type": "code",
   "execution_count": null,
   "id": "05219b5b-1222-406b-aca5-2ceef57b7d06",
   "metadata": {},
   "outputs": [],
   "source": [
    "scaler.fit(raw_df[numeric_cols])"
   ]
  },
  {
   "cell_type": "code",
   "execution_count": null,
   "id": "43a4c4e8-4e54-43a4-bf65-9be1a245b517",
   "metadata": {},
   "outputs": [],
   "source": [
    "print('Minimum:')\n",
    "list(scaler.data_min_) # Printing the minimum values learned by the scaler for each feature"
   ]
  },
  {
   "cell_type": "code",
   "execution_count": null,
   "id": "38e89f14-2611-42b9-8cae-065be6406517",
   "metadata": {},
   "outputs": [],
   "source": [
    "print('Maximum:')\n",
    "list(scaler.data_max_)"
   ]
  },
  {
   "cell_type": "code",
   "execution_count": null,
   "id": "4f305d2c-c1b3-4261-869b-cb24d85e7eb3",
   "metadata": {},
   "outputs": [],
   "source": [
    "train_inputs[numeric_cols] = scaler.transform(train_inputs[numeric_cols])\n",
    "val_inputs[numeric_cols] = scaler.transform(val_inputs[numeric_cols])\n",
    "test_inputs[numeric_cols] = scaler.transform(test_inputs[numeric_cols])"
   ]
  },
  {
   "cell_type": "code",
   "execution_count": null,
   "id": "b2711e9b-164b-4bc3-9630-862f7907e2d8",
   "metadata": {},
   "outputs": [],
   "source": [
    "train_inputs[numeric_cols].describe()"
   ]
  },
  {
   "cell_type": "code",
   "execution_count": null,
   "id": "b8422e6c-7a94-4bf3-a5f4-a778c9e2b691",
   "metadata": {},
   "outputs": [],
   "source": [
    "train_inputs[numeric_cols]"
   ]
  },
  {
   "cell_type": "code",
   "execution_count": null,
   "id": "aa293621-2d70-4506-b0e6-4e1a658d4d47",
   "metadata": {},
   "outputs": [],
   "source": []
  },
  {
   "cell_type": "code",
   "execution_count": null,
   "id": "29b26bf9-a6af-473b-ac6d-2d6d33586264",
   "metadata": {},
   "outputs": [],
   "source": []
  },
  {
   "cell_type": "code",
   "execution_count": null,
   "id": "fd2f2344-2d9a-41ec-9e95-a5d120634488",
   "metadata": {},
   "outputs": [],
   "source": [
    "#Encoding Categorical Data"
   ]
  },
  {
   "cell_type": "code",
   "execution_count": null,
   "id": "d7cd9953-fc84-4595-b3f1-3c1e77237194",
   "metadata": {},
   "outputs": [],
   "source": [
    "raw_df[categorical_cols].nunique()"
   ]
  },
  {
   "cell_type": "code",
   "execution_count": null,
   "id": "2e85db9a-cdc6-4c87-9bc7-261745c60b2f",
   "metadata": {},
   "outputs": [],
   "source": [
    "from sklearn.preprocessing import OneHotEncoder"
   ]
  },
  {
   "cell_type": "code",
   "execution_count": null,
   "id": "c4d2363c-49e1-42ce-b2a3-0ff90f55e245",
   "metadata": {},
   "outputs": [],
   "source": [
    "encoder = OneHotEncoder(sparse=False, handle_unknown='ignore')"
   ]
  },
  {
   "cell_type": "code",
   "execution_count": null,
   "id": "139ddb00-778a-49cb-9285-a386e45e9281",
   "metadata": {},
   "outputs": [],
   "source": [
    "encoder.fit(raw_df[categorical_cols])"
   ]
  },
  {
   "cell_type": "code",
   "execution_count": null,
   "id": "034bcb77-465d-4f4a-bf39-710667a4d250",
   "metadata": {},
   "outputs": [],
   "source": [
    "encoder.categories_"
   ]
  },
  {
   "cell_type": "code",
   "execution_count": null,
   "id": "8d4f8601-0a93-4933-80c9-fd0695aa05b6",
   "metadata": {},
   "outputs": [],
   "source": [
    "encoded_cols = list(encoder.get_feature_names_out(categorical_cols)) # Getting the names of the encoded features from the encoder and converting them to a list\n",
    "print(encoded_cols)"
   ]
  },
  {
   "cell_type": "code",
   "execution_count": null,
   "id": "f66105a3-056c-4747-961c-b53c1e99bc33",
   "metadata": {},
   "outputs": [],
   "source": [
    "# Step 1: Fill missing values in the original DataFrame columns\n",
    "train_inputs[categorical_cols] = train_inputs[categorical_cols].fillna('unknown')\n",
    "val_inputs[categorical_cols] = val_inputs[categorical_cols].fillna('unknown')\n",
    "test_inputs[categorical_cols] = test_inputs[categorical_cols].fillna('unknown')"
   ]
  },
  {
   "cell_type": "code",
   "execution_count": null,
   "id": "e5e787b4-3225-46f2-b4ce-ad382655dec4",
   "metadata": {},
   "outputs": [],
   "source": [
    "train_inputs[encoded_cols] = encoder.transform(train_inputs[categorical_cols])\n",
    "val_inputs[encoded_cols] = encoder.transform(val_inputs[categorical_cols])\n",
    "test_inputs[encoded_cols] = encoder.transform(test_inputs[categorical_cols])"
   ]
  },
  {
   "cell_type": "code",
   "execution_count": null,
   "id": "5da3c3af-c9e3-4463-ba1a-a4eaf236370d",
   "metadata": {},
   "outputs": [],
   "source": [
    "pd.set_option('display.max_columns', None)"
   ]
  },
  {
   "cell_type": "code",
   "execution_count": null,
   "id": "48dd093f-986b-4dc0-89f0-5551149096a6",
   "metadata": {},
   "outputs": [],
   "source": [
    "test_inputs"
   ]
  },
  {
   "cell_type": "code",
   "execution_count": null,
   "id": "4b167512-879c-4722-bc21-07f3fbb29545",
   "metadata": {},
   "outputs": [],
   "source": []
  },
  {
   "cell_type": "code",
   "execution_count": null,
   "id": "1af2d809-5f65-4f8c-abd9-43cc8e93893b",
   "metadata": {},
   "outputs": [],
   "source": []
  },
  {
   "cell_type": "code",
   "execution_count": null,
   "id": "e42d7880-966d-4d64-9731-deacb68e65ff",
   "metadata": {},
   "outputs": [],
   "source": [
    "#Saving Processed Data to Disk"
   ]
  },
  {
   "cell_type": "code",
   "execution_count": null,
   "id": "27dff384-5c79-43e2-8bcd-7a49fe7ce135",
   "metadata": {},
   "outputs": [],
   "source": [
    "print('train_inputs:', train_inputs.shape)\n",
    "print('train_targets:', train_targets.shape)\n",
    "print('val_inputs:', val_inputs.shape)\n",
    "print('val_targets:', val_targets.shape)\n",
    "print('test_inputs:', test_inputs.shape)\n",
    "print('test_targets:', test_targets.shape)"
   ]
  },
  {
   "cell_type": "code",
   "execution_count": null,
   "id": "dcf9c1b6-f685-42b6-a4ac-7c9e21bf7b76",
   "metadata": {},
   "outputs": [],
   "source": [
    "!pip install pyarrow --quiet"
   ]
  },
  {
   "cell_type": "code",
   "execution_count": null,
   "id": "ce7de296-dc92-417a-9fdc-f8d59685f39f",
   "metadata": {},
   "outputs": [],
   "source": [
    "train_inputs.to_parquet('train_inputs.parquet')# Saving the training input features to a Parquet file\n",
    "val_inputs.to_parquet('val_inputs.parquet')\n",
    "test_inputs.to_parquet('test_inputs.parquet')"
   ]
  },
  {
   "cell_type": "code",
   "execution_count": null,
   "id": "4c46a562-68d6-4807-a844-c3311b5da2fa",
   "metadata": {},
   "outputs": [],
   "source": [
    "%%time\n",
    "pd.DataFrame(train_targets).to_parquet('train_targets.parquet')\n",
    "pd.DataFrame(val_targets).to_parquet('val_targets.parquet')\n",
    "pd.DataFrame(test_targets).to_parquet('test_targets.parquet')"
   ]
  },
  {
   "cell_type": "code",
   "execution_count": null,
   "id": "a593f8de-eb24-426c-ab0e-e8a0179f1980",
   "metadata": {},
   "outputs": [],
   "source": []
  },
  {
   "cell_type": "code",
   "execution_count": null,
   "id": "1c7ac922-d110-4c93-a9b1-512f63aa5b44",
   "metadata": {},
   "outputs": [],
   "source": [
    "#reading parquet back"
   ]
  },
  {
   "cell_type": "code",
   "execution_count": null,
   "id": "a32534aa-f928-4636-b614-f3c430993f16",
   "metadata": {},
   "outputs": [],
   "source": [
    "%%time\n",
    "\n",
    "train_inputs = pd.read_parquet('train_inputs.parquet')\n",
    "val_inputs = pd.read_parquet('val_inputs.parquet')\n",
    "test_inputs = pd.read_parquet('test_inputs.parquet')\n",
    "\n",
    "train_targets = pd.read_parquet('train_targets.parquet')[target_col] # Reading the target variables from the Parquet files and selecting the 'target_col'\n",
    "val_targets = pd.read_parquet('val_targets.parquet')[target_col]\n",
    "test_targets = pd.read_parquet('test_targets.parquet')[target_col]"
   ]
  },
  {
   "cell_type": "code",
   "execution_count": null,
   "id": "31666c2d-d4cb-4771-9f99-836a719c39a4",
   "metadata": {},
   "outputs": [],
   "source": [
    "print('train_inputs:', train_inputs.shape)\n",
    "print('train_targets:', train_targets.shape)\n",
    "print('val_inputs:', val_inputs.shape)\n",
    "print('val_targets:', val_targets.shape)\n",
    "print('test_inputs:', test_inputs.shape)\n",
    "print('test_targets:', test_targets.shape)"
   ]
  },
  {
   "cell_type": "code",
   "execution_count": null,
   "id": "23d56b3b-4137-417a-bec5-a409a6a7bcc6",
   "metadata": {},
   "outputs": [],
   "source": [
    "val_inputs"
   ]
  },
  {
   "cell_type": "code",
   "execution_count": null,
   "id": "f9fcc6a8-a4a9-4577-bbeb-1c74054c3d0b",
   "metadata": {},
   "outputs": [],
   "source": [
    "val_targets"
   ]
  },
  {
   "cell_type": "code",
   "execution_count": null,
   "id": "83511dfc-6bcf-44f7-a2de-c2f427c9e086",
   "metadata": {},
   "outputs": [],
   "source": []
  },
  {
   "cell_type": "code",
   "execution_count": null,
   "id": "b276b7aa-2530-4cf1-b07c-374c0f0f820e",
   "metadata": {},
   "outputs": [],
   "source": []
  },
  {
   "cell_type": "code",
   "execution_count": null,
   "id": "8e4247e5-f6ee-47cf-a64f-3e88b80990fb",
   "metadata": {},
   "outputs": [],
   "source": [
    "#Training a Logistic Regression Model"
   ]
  },
  {
   "cell_type": "code",
   "execution_count": null,
   "id": "f39aca0d-e9a9-49ad-b3d4-c0ebfe3c88e2",
   "metadata": {},
   "outputs": [],
   "source": [
    "from sklearn.linear_model import LogisticRegression"
   ]
  },
  {
   "cell_type": "code",
   "execution_count": null,
   "id": "2985d0bc-b988-4605-a79f-2ec334b203cd",
   "metadata": {},
   "outputs": [],
   "source": [
    "model = LogisticRegression(solver='liblinear')"
   ]
  },
  {
   "cell_type": "code",
   "execution_count": null,
   "id": "056e171a-e781-47c9-85ef-96ae564d39ba",
   "metadata": {},
   "outputs": [],
   "source": [
    "#?LogisticRegression"
   ]
  },
  {
   "cell_type": "code",
   "execution_count": null,
   "id": "bddf1b39-b440-468c-8fb8-80cf32ec7c00",
   "metadata": {},
   "outputs": [],
   "source": [
    "model.fit(train_inputs[numeric_cols + encoded_cols], train_targets)"
   ]
  },
  {
   "cell_type": "code",
   "execution_count": null,
   "id": "d45913fb-0cb2-48c8-8962-56ef47e46319",
   "metadata": {},
   "outputs": [],
   "source": [
    "print(numeric_cols + encoded_cols)"
   ]
  },
  {
   "cell_type": "code",
   "execution_count": null,
   "id": "fdfafca0-fb10-49b9-9114-bec752b09c29",
   "metadata": {},
   "outputs": [],
   "source": [
    "print(model.coef_.tolist())"
   ]
  },
  {
   "cell_type": "code",
   "execution_count": null,
   "id": "81c5d14d-c1c2-4e4c-b3e2-131c0817aac0",
   "metadata": {},
   "outputs": [],
   "source": []
  },
  {
   "cell_type": "code",
   "execution_count": null,
   "id": "f1e3d38b-9419-48bc-93e8-444f9e330584",
   "metadata": {},
   "outputs": [],
   "source": []
  },
  {
   "cell_type": "code",
   "execution_count": null,
   "id": "5ef438af-fe2c-4304-ba40-2862bcc65d7b",
   "metadata": {},
   "outputs": [],
   "source": [
    "print(model.intercept_)"
   ]
  },
  {
   "cell_type": "code",
   "execution_count": null,
   "id": "cd276bd2-fcd7-42c2-bd93-1402b321b644",
   "metadata": {},
   "outputs": [],
   "source": [
    "n = len(model.coef_.tolist())"
   ]
  },
  {
   "cell_type": "code",
   "execution_count": null,
   "id": "9c25bd5d-a256-4500-867a-943b707aad44",
   "metadata": {},
   "outputs": [],
   "source": [
    "weights_df = pd.DataFrame({\n",
    "    'feature' : (numeric_cols + encoded_cols),\n",
    "    'weight' : model.coef_.tolist()[0]})"
   ]
  },
  {
   "cell_type": "code",
   "execution_count": null,
   "id": "04534b0f-7fba-404b-8033-d1ca06427a54",
   "metadata": {},
   "outputs": [],
   "source": [
    "weights_df"
   ]
  },
  {
   "cell_type": "code",
   "execution_count": null,
   "id": "be61e7cb-9ee0-4650-8bbb-d382142847f0",
   "metadata": {},
   "outputs": [],
   "source": [
    "plt.figure(figsize=(10,50))"
   ]
  },
  {
   "cell_type": "code",
   "execution_count": null,
   "id": "314f2a0b-18f9-433d-b909-9877e64f8f5e",
   "metadata": {},
   "outputs": [],
   "source": [
    "sns.barplot(data=weights_df, x='weight', y ='feature')"
   ]
  },
  {
   "cell_type": "code",
   "execution_count": null,
   "id": "90a2e6ad-0729-4791-8eef-de94f738fc0b",
   "metadata": {},
   "outputs": [],
   "source": [
    "sns.barplot(data=weights_df.sort_values('weight', ascending=False).head(10), x='weight', y ='feature')"
   ]
  },
  {
   "cell_type": "code",
   "execution_count": null,
   "id": "db25c05b-dffb-45cd-80f6-612b97324541",
   "metadata": {},
   "outputs": [],
   "source": []
  },
  {
   "cell_type": "code",
   "execution_count": null,
   "id": "34a58714-9eed-4f1b-968c-4780825cfc7d",
   "metadata": {},
   "outputs": [],
   "source": [
    "#Making Predictions and Evaluating the Model"
   ]
  },
  {
   "cell_type": "code",
   "execution_count": null,
   "id": "4c8ad004-4cba-4541-9a0a-be1878cf1b94",
   "metadata": {},
   "outputs": [],
   "source": [
    "X_train = train_inputs[numeric_cols + encoded_cols]\n",
    "X_val = val_inputs[numeric_cols + encoded_cols]\n",
    "X_test = test_inputs[numeric_cols + encoded_cols]"
   ]
  },
  {
   "cell_type": "code",
   "execution_count": null,
   "id": "7cac94f2-a133-4997-be0d-972025718b6d",
   "metadata": {},
   "outputs": [],
   "source": [
    "train_preds = model.predict(X_train)"
   ]
  },
  {
   "cell_type": "code",
   "execution_count": null,
   "id": "5342b6cf-9dfc-4eb8-b4da-4732fc1cd377",
   "metadata": {},
   "outputs": [],
   "source": [
    "train_preds"
   ]
  },
  {
   "cell_type": "code",
   "execution_count": null,
   "id": "45006a46-508f-4c1b-b5f9-2b71a17c3f39",
   "metadata": {},
   "outputs": [],
   "source": [
    "train_targets"
   ]
  },
  {
   "cell_type": "code",
   "execution_count": null,
   "id": "b10cd4d9-a46d-4e2d-8de4-e2d1d2e04458",
   "metadata": {},
   "outputs": [],
   "source": [
    "train_probs = model.predict_proba(X_train)\n",
    "train_probs #probabilistic prediction using predict_proba"
   ]
  },
  {
   "cell_type": "code",
   "execution_count": null,
   "id": "af37c4fc-d0c7-48f9-8f90-8e9c99909ab6",
   "metadata": {},
   "outputs": [],
   "source": [
    "model.classes_"
   ]
  },
  {
   "cell_type": "code",
   "execution_count": null,
   "id": "62800b1c-4481-48f1-af3c-dcc246e2c347",
   "metadata": {},
   "outputs": [],
   "source": [
    "from sklearn.metrics import accuracy_score"
   ]
  },
  {
   "cell_type": "code",
   "execution_count": null,
   "id": "b61dc776-6113-437c-b495-f1280b948adb",
   "metadata": {},
   "outputs": [],
   "source": [
    "accuracy_score(train_targets, train_preds) #The model achieves an accuracy of 85.1% on the training set"
   ]
  },
  {
   "cell_type": "code",
   "execution_count": null,
   "id": "fe94b1da-f135-4541-a79c-c39168ebd145",
   "metadata": {},
   "outputs": [],
   "source": [
    "from sklearn.metrics import confusion_matrix"
   ]
  },
  {
   "cell_type": "code",
   "execution_count": null,
   "id": "c72bbc3e-e04d-4ce6-b0d0-3a2a79e33c22",
   "metadata": {},
   "outputs": [],
   "source": [
    "confusion_matrix(train_targets, train_preds, normalize='true')"
   ]
  },
  {
   "cell_type": "code",
   "execution_count": null,
   "id": "4cd7ab0d-becc-443a-aac2-f01cc9866f51",
   "metadata": {},
   "outputs": [],
   "source": [
    "def predict_and_plot(inputs, targets, name=''):  #define a helper function to generate predictions, compute the accuracy score and plot a confusion matrix for a given st of inputs.\n",
    "\n",
    "\n",
    "    preds = model.predict(inputs) # Use the trained model to make predictions on the input data\n",
    "    \n",
    "    accuracy = accuracy_score(targets, preds)    # Calculate accuracy between actual and predicted values\n",
    "    print(\"Accuracy: {:.2f}%\".format(accuracy * 100)) #formats and prints the model's accuracy as a percentage with two decimal places\n",
    "    \n",
    "    cf = confusion_matrix(targets, preds, normalize='true')   # Create a heatmap from the confusion matrix\n",
    "    plt.figure()\n",
    "    sns.heatmap(cf, annot=True)\n",
    "    plt.xlabel('Prediction')\n",
    "    plt.ylabel('Target')\n",
    "    plt.title('{} Confusion Matrix'.format(name));\n",
    "    \n",
    "    return preds"
   ]
  },
  {
   "cell_type": "code",
   "execution_count": null,
   "id": "cba5932e-03a7-466b-85fd-92479d777b1e",
   "metadata": {},
   "outputs": [],
   "source": [
    "train_preds = predict_and_plot(X_train, train_targets, 'Training')"
   ]
  },
  {
   "cell_type": "code",
   "execution_count": null,
   "id": "348ccf60-616d-4fcd-a660-8000d173f688",
   "metadata": {},
   "outputs": [],
   "source": [
    "val_preds = predict_and_plot(X_val, val_targets, 'Validatiaon')"
   ]
  },
  {
   "cell_type": "code",
   "execution_count": null,
   "id": "ba1ba73d-aa17-4fd6-a0b8-e937afc0d39f",
   "metadata": {},
   "outputs": [],
   "source": [
    "test_preds = predict_and_plot(X_test, test_targets, 'Test')"
   ]
  },
  {
   "cell_type": "code",
   "execution_count": null,
   "id": "d96880cc-9d85-4827-922f-8b636bb6fc45",
   "metadata": {},
   "outputs": [],
   "source": [
    "#The accuracy of the model on the test and validation set are above 84%, which suggests that our model generalizes well to data it hasn't seen before."
   ]
  },
  {
   "cell_type": "code",
   "execution_count": null,
   "id": "b91d1e62-9c98-4e1d-af5b-13f1f2675a19",
   "metadata": {},
   "outputs": [],
   "source": [
    "#Let's create two models: one that guesses randomly and another that always return \"No\". Both of these models completely ignore the inputs given to them."
   ]
  },
  {
   "cell_type": "code",
   "execution_count": null,
   "id": "9ddbc225-8268-410b-993b-0c292613e0c6",
   "metadata": {},
   "outputs": [],
   "source": [
    "def random_guess(inputs):\n",
    "    return np.random.choice([\"No\", \"Yes\"], len(inputs))"
   ]
  },
  {
   "cell_type": "code",
   "execution_count": null,
   "id": "641da755-0b23-40a0-aa0c-ef897819f3ef",
   "metadata": {},
   "outputs": [],
   "source": [
    "def all_no(inputs):\n",
    "    return np.full(len(inputs), \"No\")"
   ]
  },
  {
   "cell_type": "code",
   "execution_count": null,
   "id": "91668db7-8e26-4237-a356-3e10eb8aa6f9",
   "metadata": {},
   "outputs": [],
   "source": [
    "accuracy_score(test_targets, random_guess(X_test))"
   ]
  },
  {
   "cell_type": "code",
   "execution_count": null,
   "id": "38fd1dc9-5a32-4c7e-b98b-e7266daa9171",
   "metadata": {},
   "outputs": [],
   "source": [
    "accuracy_score(test_targets, all_no(X_test)) #Our random model achieves an accuracy of 50% and our \"always No\" model achieves an accuracy of 77%."
   ]
  },
  {
   "cell_type": "code",
   "execution_count": null,
   "id": "9ae15547-7823-4510-9cf4-49eb1778d696",
   "metadata": {},
   "outputs": [],
   "source": []
  },
  {
   "cell_type": "code",
   "execution_count": null,
   "id": "d6717908-e3a9-4042-89be-eaf65952d0ba",
   "metadata": {},
   "outputs": [],
   "source": []
  },
  {
   "cell_type": "code",
   "execution_count": null,
   "id": "a502f86b-efbf-4587-a100-bdc3c0bd4f6a",
   "metadata": {},
   "outputs": [],
   "source": [
    "#Making Predictions on a Single Input"
   ]
  },
  {
   "cell_type": "code",
   "execution_count": null,
   "id": "a7c9ccc7-3c94-4c96-8abd-9507cc0fe543",
   "metadata": {},
   "outputs": [],
   "source": [
    "new_input = {'Date': '2021-06-19',\n",
    "             'Location': 'Katherine',\n",
    "             'MinTemp': 23.2,\n",
    "             'MaxTemp': 33.2,\n",
    "             'Rainfall': 10.2,\n",
    "             'Evaporation': 4.2,\n",
    "             'Sunshine': np.nan,\n",
    "             'WindGustDir': 'NNW',\n",
    "             'WindGustSpeed': 52.0,\n",
    "             'WindDir9am': 'NW',\n",
    "             'WindDir3pm': 'NNE',\n",
    "             'WindSpeed9am': 13.0,\n",
    "             'WindSpeed3pm': 20.0,\n",
    "             'Humidity9am': 89.0,\n",
    "             'Humidity3pm': 58.0,\n",
    "             'Pressure9am': 1004.8,\n",
    "             'Pressure3pm': 1001.5,\n",
    "             'Cloud9am': 8.0,\n",
    "             'Cloud3pm': 5.0,\n",
    "             'Temp9am': 25.7,\n",
    "             'Temp3pm': 33.0,\n",
    "             'RainToday': 'Yes'}"
   ]
  },
  {
   "cell_type": "code",
   "execution_count": null,
   "id": "bfc885ec-f871-4ee3-b190-857c4f98ce83",
   "metadata": {},
   "outputs": [],
   "source": [
    "new_input_df = pd.DataFrame([new_input]) #the first step is to convert the dictionary into a Pandas dataframe,\n"
   ]
  },
  {
   "cell_type": "code",
   "execution_count": null,
   "id": "bd5423c1-1115-4050-b48a-baabcf38c376",
   "metadata": {},
   "outputs": [],
   "source": [
    "new_input_df"
   ]
  },
  {
   "cell_type": "code",
   "execution_count": null,
   "id": "1a37fa17-806f-4549-812b-f2c82e094d61",
   "metadata": {},
   "outputs": [],
   "source": [
    "new_input_df[numeric_cols] = imputer.transform(new_input_df[numeric_cols])\n",
    "new_input_df[numeric_cols] = scaler.transform(new_input_df[numeric_cols])\n",
    "new_input_df[encoded_cols] = encoder.transform(new_input_df[categorical_cols])"
   ]
  },
  {
   "cell_type": "code",
   "execution_count": null,
   "id": "9de3a874-39a2-414b-98a1-ce8423e2c8dc",
   "metadata": {},
   "outputs": [],
   "source": [
    "X_new_input = new_input_df[numeric_cols + encoded_cols]\n",
    "X_new_input"
   ]
  },
  {
   "cell_type": "code",
   "execution_count": null,
   "id": "e8c9212c-a169-4dbd-953d-696e324c8ea8",
   "metadata": {},
   "outputs": [],
   "source": [
    "prediction = model.predict(X_new_input)[0]\n",
    "prediction"
   ]
  },
  {
   "cell_type": "code",
   "execution_count": null,
   "id": "d25a7029-0164-48ee-9842-690e06c03451",
   "metadata": {},
   "outputs": [],
   "source": [
    "prob = model.predict_proba(X_new_input)[0]\n"
   ]
  },
  {
   "cell_type": "code",
   "execution_count": null,
   "id": "7d44cfe5-ff48-4edf-8c4a-605a959559c2",
   "metadata": {},
   "outputs": [],
   "source": [
    "prob #Looks like our model isn't too confident about its prediction!"
   ]
  },
  {
   "cell_type": "code",
   "execution_count": null,
   "id": "08055b24-bb5a-43c2-84d1-ee2535d0dcaa",
   "metadata": {},
   "outputs": [],
   "source": []
  },
  {
   "cell_type": "code",
   "execution_count": null,
   "id": "6f5197cb-693c-406e-9f88-8d241586c6cc",
   "metadata": {},
   "outputs": [],
   "source": []
  },
  {
   "cell_type": "code",
   "execution_count": null,
   "id": "cdbd9916-2a3f-402c-b556-6120e9c44ccd",
   "metadata": {},
   "outputs": [],
   "source": [
    "def predict_input(single_input): #Let's define a helper function to make predictions for individual inputs.\n",
    "    input_df = pd.DataFrame([single_input])\n",
    "    input_df[numeric_cols] = imputer.transform(input_df[numeric_cols])\n",
    "    input_df[numeric_cols] = scaler.transform(input_df[numeric_cols])\n",
    "    input_df[encoded_cols] = encoder.transform(input_df[categorical_cols])\n",
    "    X_input = input_df[numeric_cols + encoded_cols]\n",
    "    pred = model.predict(X_input)[0]\n",
    "    prob = model.predict_proba(X_input)[0][list(model.classes_).index(pred)]\n",
    "    return pred, prob"
   ]
  },
  {
   "cell_type": "code",
   "execution_count": null,
   "id": "2849bb80-e637-4aa1-a9b8-19b60192bbf6",
   "metadata": {},
   "outputs": [],
   "source": [
    "new_input = {'Date': '2021-06-19',\n",
    "             'Location': 'Launceston',\n",
    "             'MinTemp': 23.2,\n",
    "             'MaxTemp': 33.2,\n",
    "             'Rainfall': 10.2,\n",
    "             'Evaporation': 4.2,\n",
    "             'Sunshine': np.nan,\n",
    "             'WindGustDir': 'NNW',\n",
    "             'WindGustSpeed': 52.0,\n",
    "             'WindDir9am': 'NW',\n",
    "             'WindDir3pm': 'NNE',\n",
    "             'WindSpeed9am': 13.0,\n",
    "             'WindSpeed3pm': 20.0,\n",
    "             'Humidity9am': 89.0,\n",
    "             'Humidity3pm': 58.0,\n",
    "             'Pressure9am': 1004.8,\n",
    "             'Pressure3pm': 1001.5,\n",
    "             'Cloud9am': 8.0,\n",
    "             'Cloud3pm': 5.0,\n",
    "             'Temp9am': 25.7,\n",
    "             'Temp3pm': 33.0,\n",
    "             'RainToday': 'Yes'}"
   ]
  },
  {
   "cell_type": "code",
   "execution_count": null,
   "id": "234ebc69-4222-4d40-a54a-eeb3aaed19c3",
   "metadata": {},
   "outputs": [],
   "source": [
    "predict_input(new_input)  #Try changing the values in new_input and observe how the predictions and probabilities change. Try different values of location, temperature, humidity, pressure etc"
   ]
  },
  {
   "cell_type": "code",
   "execution_count": null,
   "id": "1f5f88c3-8813-4eea-815f-b7b51808de56",
   "metadata": {},
   "outputs": [],
   "source": []
  },
  {
   "cell_type": "code",
   "execution_count": null,
   "id": "0cd55fa5-2461-4912-84a0-3b437313693f",
   "metadata": {},
   "outputs": [],
   "source": []
  },
  {
   "cell_type": "code",
   "execution_count": null,
   "id": "073a2001-6d28-41e7-a812-7c37a32cc968",
   "metadata": {},
   "outputs": [],
   "source": []
  },
  {
   "cell_type": "code",
   "execution_count": null,
   "id": "0874ad0a-e0fb-4fc2-a3c5-26af01ce9dc5",
   "metadata": {},
   "outputs": [],
   "source": []
  },
  {
   "cell_type": "code",
   "execution_count": null,
   "id": "02a58968-b670-4139-b75b-09aa337bf2ed",
   "metadata": {},
   "outputs": [],
   "source": [
    "#Saving and Loading Trained Models"
   ]
  },
  {
   "cell_type": "code",
   "execution_count": null,
   "id": "e5a2c233-be2f-4f70-9024-ad6d3785ab5f",
   "metadata": {},
   "outputs": [],
   "source": [
    "import joblib"
   ]
  },
  {
   "cell_type": "code",
   "execution_count": null,
   "id": "aba8f832-ec0b-4c17-a477-ecd01971fe70",
   "metadata": {},
   "outputs": [],
   "source": [
    "aussie_rain = {\n",
    "    'model': model,\n",
    "    'imputer': imputer,\n",
    "    'scaler': scaler,\n",
    "    'encoder': encoder,\n",
    "    'input_cols': input_cols,\n",
    "    'target_col': target_col,\n",
    "    'numeric_cols': numeric_cols,\n",
    "    'categorical_cols': categorical_cols,\n",
    "    'encoded_cols': encoded_cols\n",
    "}"
   ]
  },
  {
   "cell_type": "code",
   "execution_count": null,
   "id": "c9913d89-f65f-4899-934c-673be4679dbe",
   "metadata": {},
   "outputs": [],
   "source": [
    "joblib.dump(aussie_rain, 'aussie_rain.joblib') #We can now save this to a file using `joblib.dump`"
   ]
  },
  {
   "cell_type": "code",
   "execution_count": null,
   "id": "b2bd617f-4518-45c1-88df-5057ebb11dc7",
   "metadata": {},
   "outputs": [],
   "source": [
    "aussie_rain2 = joblib.load('aussie_rain.joblib')# load\n"
   ]
  },
  {
   "cell_type": "code",
   "execution_count": null,
   "id": "50e9fb6c-05ec-456c-ac3d-72e3fdfdcd42",
   "metadata": {},
   "outputs": [],
   "source": [
    "test_preds2 = aussie_rain2['model'].predict(X_test)\n",
    "accuracy_score(test_targets, test_preds2)"
   ]
  },
  {
   "cell_type": "code",
   "execution_count": null,
   "id": "f3adf9a1-12f5-449f-9c73-8eee0085954b",
   "metadata": {},
   "outputs": [],
   "source": []
  }
 ],
 "metadata": {
  "kernelspec": {
   "display_name": "Python 3 (ipykernel)",
   "language": "python",
   "name": "python3"
  },
  "language_info": {
   "codemirror_mode": {
    "name": "ipython",
    "version": 3
   },
   "file_extension": ".py",
   "mimetype": "text/x-python",
   "name": "python",
   "nbconvert_exporter": "python",
   "pygments_lexer": "ipython3",
   "version": "3.8.10"
  }
 },
 "nbformat": 4,
 "nbformat_minor": 5
}
